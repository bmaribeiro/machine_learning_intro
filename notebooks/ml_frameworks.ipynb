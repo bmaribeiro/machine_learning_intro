{
 "cells": [
  {
   "cell_type": "markdown",
   "metadata": {},
   "source": [
    "# Python Frameworks for Machine Learning"
   ]
  },
  {
   "cell_type": "markdown",
   "metadata": {},
   "source": [
    "In this tutorial, you will learn how to operate with two of the most fundamental frameworks when it comes to Machine Learning: Pandas and NumPy"
   ]
  },
  {
   "cell_type": "markdown",
   "metadata": {},
   "source": [
    "## NumPy (https://github.com/numpy/numpy)"
   ]
  },
  {
   "cell_type": "markdown",
   "metadata": {},
   "source": [
    "NumPy is a Python library aimed at array operations. This library is well-suited for Machine Learning tasks, where speed and resources are very important (processing using NumPy arrays is up to 50x faster than doing so using Python lists)."
   ]
  },
  {
   "cell_type": "markdown",
   "metadata": {},
   "source": [
    "Let's begin by installing and importing the library. (You just have to run the next cells)"
   ]
  },
  {
   "cell_type": "code",
   "execution_count": null,
   "metadata": {},
   "outputs": [],
   "source": [
    "pip install numpy"
   ]
  },
  {
   "cell_type": "markdown",
   "metadata": {},
   "source": [
    "Note: Usually, you need to create a Python environment and install all the required packages there. However, since this is a jupyter notebook tutorial, we can do it like this."
   ]
  },
  {
   "cell_type": "code",
   "execution_count": 32,
   "metadata": {},
   "outputs": [],
   "source": [
    "import numpy as np"
   ]
  },
  {
   "cell_type": "markdown",
   "metadata": {},
   "source": [
    "Now, let's do some exercises leveraging the potentialities of NumPy"
   ]
  },
  {
   "cell_type": "markdown",
   "metadata": {},
   "source": [
    "#### Exercise 1 - Create a numpy array"
   ]
  },
  {
   "cell_type": "markdown",
   "metadata": {},
   "source": [
    "It is quite simple to create a numpy array. You'll see an example and reproduce the method, using a different sequence of numbers."
   ]
  },
  {
   "cell_type": "code",
   "execution_count": null,
   "metadata": {},
   "outputs": [],
   "source": [
    "example_array = np.array([1, 2, 3, 4, 5])\n",
    "print(\"Here's an example: \" + str(example_array) + \"\\n\")\n",
    "print(\"Now it's your turn.\\n\")\n",
    "\n",
    "your_array = #insert code here\n",
    "\n",
    "print(your_array)"
   ]
  },
  {
   "cell_type": "markdown",
   "metadata": {},
   "source": [
    "As you can see, we used a list to create a NumPy array, but we can also use tuples."
   ]
  },
  {
   "cell_type": "code",
   "execution_count": null,
   "metadata": {},
   "outputs": [],
   "source": [
    "array_from_tuple = np.array((1, 2, 3, 4, 5))\n",
    "\n",
    "print(array_from_tuple)"
   ]
  },
  {
   "cell_type": "markdown",
   "metadata": {},
   "source": [
    "#### Exercise 2 - Multi-dimensional arrays"
   ]
  },
  {
   "cell_type": "markdown",
   "metadata": {},
   "source": [
    "So far, we've introduced one-dimensional arrays (which are basically matrices), but NumPy offers the possibility to create arrays with n dimensions. See an example:"
   ]
  },
  {
   "cell_type": "code",
   "execution_count": null,
   "metadata": {},
   "outputs": [],
   "source": [
    "array_3d = np.array([[2, 3, 4], [5, 6, 7], [2, 3, 7]])\n",
    "\n",
    "print(array_3d)"
   ]
  },
  {
   "cell_type": "markdown",
   "metadata": {},
   "source": [
    "Now, create an array with 7 dimensions."
   ]
  },
  {
   "cell_type": "code",
   "execution_count": null,
   "metadata": {},
   "outputs": [],
   "source": [
    "array_7d = #insert code here\n",
    "\n",
    "print(array_7d)"
   ]
  },
  {
   "cell_type": "markdown",
   "metadata": {},
   "source": [
    "You can check the shape of your array using the following method:"
   ]
  },
  {
   "cell_type": "code",
   "execution_count": null,
   "metadata": {},
   "outputs": [],
   "source": [
    "print(array_7d.shape())"
   ]
  },
  {
   "cell_type": "markdown",
   "metadata": {},
   "source": [
    "#### Exercise 4 - Indexation"
   ]
  },
  {
   "cell_type": "markdown",
   "metadata": {},
   "source": [
    "In NumPy, you access an element within an array using straight brackets - [] - same as you do with Python lists. See the following example."
   ]
  },
  {
   "cell_type": "code",
   "execution_count": null,
   "metadata": {},
   "outputs": [],
   "source": [
    "array = np.array([1, 2, 3, 4, 5, 6, 7, 8, 9])\n",
    "\n",
    "print(array[0])\n",
    "print(array[1])\n",
    "print(array[7])\n"
   ]
  },
  {
   "cell_type": "markdown",
   "metadata": {},
   "source": [
    "Insert the code necessary to access and print the 9th element of the previous array."
   ]
  },
  {
   "cell_type": "code",
   "execution_count": null,
   "metadata": {},
   "outputs": [],
   "source": [
    "ninth = #insert code here\n",
    "\n",
    "print(ninth)"
   ]
  },
  {
   "cell_type": "markdown",
   "metadata": {},
   "source": [
    "What is the length of the array? Inser the code needed to answer this question."
   ]
  },
  {
   "cell_type": "code",
   "execution_count": null,
   "metadata": {},
   "outputs": [],
   "source": [
    "arr_len = #insert code here\n",
    "\n",
    "print()"
   ]
  },
  {
   "cell_type": "markdown",
   "metadata": {},
   "source": [
    "Since the length of the array is 9, the 9th element of the array is the last one. You can access the last element of an array in a different manner:"
   ]
  },
  {
   "cell_type": "code",
   "execution_count": null,
   "metadata": {},
   "outputs": [],
   "source": [
    "last_element = array[-1]\n",
    "\n",
    "print(last_element)"
   ]
  },
  {
   "cell_type": "markdown",
   "metadata": {},
   "source": [
    "For multi-dimensional arrays, you need to use multiple indexes. Consider the following bi-dimensional array."
   ]
  },
  {
   "cell_type": "code",
   "execution_count": null,
   "metadata": {},
   "outputs": [],
   "source": [
    "bidim_array = np.array([[1, 2, 3], [4, 5, 6]])\n",
    "\n",
    "print(bidim_array)"
   ]
  },
  {
   "cell_type": "markdown",
   "metadata": {},
   "source": [
    "You want to access the element with value \"4\" in this array, which is situate in the second row, first column. How can you do that?"
   ]
  },
  {
   "cell_type": "code",
   "execution_count": null,
   "metadata": {},
   "outputs": [],
   "source": [
    "required_element = #insert code here\n",
    "\n",
    "print(required_element)"
   ]
  },
  {
   "cell_type": "markdown",
   "metadata": {},
   "source": [
    "#### Exercise 5 - Array Slicing"
   ]
  },
  {
   "cell_type": "markdown",
   "metadata": {},
   "source": [
    "Now that you know all about indexing, let's talk slicing. You can slice sub-parts of arrays using the following notation:"
   ]
  },
  {
   "cell_type": "code",
   "execution_count": null,
   "metadata": {},
   "outputs": [],
   "source": [
    "array = np.array([1, 2, 3, 4, 5, 6, 7, 8, 9])\n",
    "\n",
    "sliced_array = array[1:6]\n",
    "\n",
    "print(sliced_array)"
   ]
  },
  {
   "cell_type": "markdown",
   "metadata": {},
   "source": [
    "Your turn. Access and print the 3 middle elements of the array (\"4\", \"5\", and \"6\") using a slicing technique."
   ]
  },
  {
   "cell_type": "code",
   "execution_count": null,
   "metadata": {},
   "outputs": [],
   "source": [
    "slice = #insert code here\n",
    "\n",
    "print(slice)"
   ]
  },
  {
   "cell_type": "markdown",
   "metadata": {},
   "source": [
    "You can also use negative indexes. See the example and try it yourself."
   ]
  },
  {
   "cell_type": "code",
   "execution_count": null,
   "metadata": {},
   "outputs": [],
   "source": [
    "print(array[-6:-2])\n"
   ]
  },
  {
   "cell_type": "code",
   "execution_count": null,
   "metadata": {},
   "outputs": [],
   "source": [
    "\n",
    "your_slice = #insert code here\n",
    "\n",
    "print(yout_slice)"
   ]
  },
  {
   "cell_type": "markdown",
   "metadata": {},
   "source": [
    "Now let's get a sequence of elements through steps."
   ]
  },
  {
   "cell_type": "code",
   "execution_count": null,
   "metadata": {},
   "outputs": [],
   "source": [
    "step_slice = array[1:9:2]\n",
    "\n",
    "print(step_slice)"
   ]
  },
  {
   "cell_type": "markdown",
   "metadata": {},
   "source": [
    "Your move. Try different step and limit combinations (including negatives)."
   ]
  },
  {
   "cell_type": "code",
   "execution_count": null,
   "metadata": {},
   "outputs": [],
   "source": [
    "my_step_slice = #insert code here\n",
    "\n",
    "print(my_step_slice)"
   ]
  },
  {
   "cell_type": "markdown",
   "metadata": {},
   "source": [
    "#### Exercise 6 - Data Types"
   ]
  },
  {
   "cell_type": "markdown",
   "metadata": {},
   "source": [
    "We've only worked with integers so far, but ndarrays are compatible with other types of data. Try to create an array out of a list of strings."
   ]
  },
  {
   "cell_type": "code",
   "execution_count": null,
   "metadata": {},
   "outputs": [],
   "source": [
    "str_array = #insert code here\n",
    "\n",
    "print(str_array)"
   ]
  },
  {
   "cell_type": "markdown",
   "metadata": {},
   "source": [
    "Did it work? Now try a list of floats."
   ]
  },
  {
   "cell_type": "code",
   "execution_count": null,
   "metadata": {},
   "outputs": [],
   "source": [
    "flt_array = #insert code here\n",
    "\n",
    "print(flt_array)"
   ]
  },
  {
   "cell_type": "markdown",
   "metadata": {},
   "source": [
    "You can also convert arrays to a different data type (as long as the conversion is possible). Check the following conversion of an integer array to a boolean."
   ]
  },
  {
   "cell_type": "code",
   "execution_count": null,
   "metadata": {},
   "outputs": [],
   "source": [
    "int_array = np.array([0, 1, 0, 0])\n",
    "\n",
    "bool_array = int_array.astype('bool')\n",
    "\n",
    "print(bool_array)"
   ]
  },
  {
   "cell_type": "markdown",
   "metadata": {},
   "source": [
    "Now convert the float array you created into an integer array"
   ]
  },
  {
   "cell_type": "code",
   "execution_count": null,
   "metadata": {},
   "outputs": [],
   "source": [
    "my_int_array = #insert code here\n",
    "\n",
    "print(my_int_array)"
   ]
  },
  {
   "cell_type": "markdown",
   "metadata": {},
   "source": [
    "#### Exercise 7 - Join and Split Arrays"
   ]
  },
  {
   "cell_type": "markdown",
   "metadata": {},
   "source": [
    "If we wish to join the contents of two or more arrays in a single array, we can use the concatenate method."
   ]
  },
  {
   "cell_type": "code",
   "execution_count": null,
   "metadata": {},
   "outputs": [],
   "source": [
    "arr1 = np.array([1, 2, 3])\n",
    "arr2 = np.array([4, 5, 6])\n",
    "\n",
    "arr = np.concatenate((arr1, arr2))\n",
    "print(arr)"
   ]
  },
  {
   "cell_type": "markdown",
   "metadata": {},
   "source": [
    "Join the contents of the following 4 arrays."
   ]
  },
  {
   "cell_type": "code",
   "execution_count": null,
   "metadata": {},
   "outputs": [],
   "source": [
    "arr1 = np.array([5, 23, 4, 99])\n",
    "arr2 = np.array([98, 3, 15])\n",
    "arr3 = np.array([70, 20, 12])\n",
    "arr4 = np.array([1])\n",
    "\n",
    "final_arr = # insert code here\n",
    "print(final_arr)"
   ]
  },
  {
   "cell_type": "markdown",
   "metadata": {},
   "source": [
    "Now let's split the array you created."
   ]
  },
  {
   "cell_type": "code",
   "execution_count": null,
   "metadata": {},
   "outputs": [],
   "source": [
    "split_results = np.array_split(final_arr, 2)\n",
    "\n",
    "print(split_results)"
   ]
  },
  {
   "cell_type": "markdown",
   "metadata": {},
   "source": [
    "Your turn. Split final_arr into 5 arrays."
   ]
  },
  {
   "cell_type": "code",
   "execution_count": null,
   "metadata": {},
   "outputs": [],
   "source": [
    "splitted_arr = # insert code here\n",
    "\n",
    "print(splitted_results)"
   ]
  },
  {
   "cell_type": "markdown",
   "metadata": {},
   "source": [
    "#### Exercise 8 - Search Arrays"
   ]
  },
  {
   "cell_type": "markdown",
   "metadata": {},
   "source": [
    "In data analysis tasks, it may be useful to search for the instances that verify a certain condition within an array. For this purpose, NumPy offers the method where, which does exacly that. See the next example."
   ]
  },
  {
   "cell_type": "code",
   "execution_count": null,
   "metadata": {},
   "outputs": [],
   "source": [
    "arr = np.array([4, 93, 83, 94, 12])\n",
    "\n",
    "print(np.where(arr==12))"
   ]
  },
  {
   "cell_type": "markdown",
   "metadata": {},
   "source": [
    "As you can see, the algorithm correctly situated the value \"12\" in the fourth position of the array.\n",
    "You can use any type of condition for your search. For certain tasks, it might be useful to situate all instances verifying a certain condition. For instance, considering an array containing the ages of all the patients within a clinical facility, we might want to identify the adults exclusively (+ 18 yo). How would you do that?"
   ]
  },
  {
   "cell_type": "code",
   "execution_count": null,
   "metadata": {},
   "outputs": [],
   "source": [
    "ages = np.array([8, 19, 18, 29, 88, 82, 3, 45, 51, 54, 74, 54, 66, 23, 3, 7, 92, 65, 64])\n",
    "\n",
    "adults_idx = #insert code here\n",
    "\n",
    "print(adults_idx)"
   ]
  },
  {
   "cell_type": "markdown",
   "metadata": {},
   "source": [
    "Now keep in mind the previous example. What if you wanted to sort the patients according to their age? NumPy also has a method for that: np.sort. How do you think you can implement it? Complete the following cell adequately to obtain an ordered ages array."
   ]
  },
  {
   "cell_type": "code",
   "execution_count": null,
   "metadata": {},
   "outputs": [],
   "source": [
    "ordered_ages = #insert code here\n",
    "\n",
    "print(ordered_ages)"
   ]
  },
  {
   "cell_type": "markdown",
   "metadata": {},
   "source": [
    "Sometimes, we do not want an ordered representation, but the ordered indexes instead, so that we can access them in the original array. For that, we use np.argsort. Give it a try!"
   ]
  },
  {
   "cell_type": "code",
   "execution_count": null,
   "metadata": {},
   "outputs": [],
   "source": [
    "sorted_indexes = np.argsort(ages)\n",
    "\n",
    "print(sorted_indexes)"
   ]
  },
  {
   "cell_type": "markdown",
   "metadata": {},
   "source": [
    "What do you think happens when you apply np.sort to a string array? Check your guess in the next cell."
   ]
  },
  {
   "cell_type": "code",
   "execution_count": null,
   "metadata": {},
   "outputs": [],
   "source": [
    "string_arr = [\"what\", \"is\", \"going\", \"on\", \"here\"]\n",
    "\n",
    "sorted_str_arr = #insert code here\n",
    "\n",
    "print(sorted_str_arr)"
   ]
  },
  {
   "cell_type": "markdown",
   "metadata": {},
   "source": [
    "#### Exercise 9 - Filtering"
   ]
  },
  {
   "cell_type": "markdown",
   "metadata": {},
   "source": [
    "NumPy is also a powerful tool to filter information. Check the next example."
   ]
  },
  {
   "cell_type": "code",
   "execution_count": null,
   "metadata": {},
   "outputs": [],
   "source": [
    "arr = np.array([1, 2, 3, 4, 5, 6, 7, 8, 9, 10])\n",
    "\n",
    "# We want only the odd numbers in the array\n",
    "odd_numbers = []\n",
    "for number in arr:\n",
    "    if number % 2 != 0:\n",
    "        odd_numbers.append(True)\n",
    "    else:\n",
    "        odd_numbers.append(False)\n",
    "\n",
    "filtered_array = arr[odd_numbers]\n",
    "\n",
    "print(filtered_array)"
   ]
  },
  {
   "cell_type": "markdown",
   "metadata": {},
   "source": [
    "You can also use the indexes of the elements to filter arrays. Consider Exercise 8, where you had to search for the adult patients within an array of patients' ages. How can you obtain an array composed exclusively by ages of adult patients using filtering techniques?"
   ]
  },
  {
   "cell_type": "code",
   "execution_count": null,
   "metadata": {},
   "outputs": [],
   "source": [
    "adults_idxs = #insert code here\n",
    "\n",
    "filtered_ages = #insert code here\n",
    "\n",
    "print(filtered_ages)"
   ]
  },
  {
   "cell_type": "markdown",
   "metadata": {},
   "source": [
    "You concluded your introductory class on NumPy! Congratulations!"
   ]
  },
  {
   "cell_type": "markdown",
   "metadata": {},
   "source": [
    "# Pandas (https://pandas.pydata.org/)"
   ]
  },
  {
   "cell_type": "markdown",
   "metadata": {},
   "source": [
    "Pandas is the most famous Python library for data analysis. In this tutorial, you'll learn all the skills needed to operate with pandas in the context of Machine Learning."
   ]
  },
  {
   "cell_type": "markdown",
   "metadata": {},
   "source": [
    "Start by installing and importing the library"
   ]
  },
  {
   "cell_type": "code",
   "execution_count": null,
   "metadata": {},
   "outputs": [],
   "source": [
    "pip install pandas"
   ]
  },
  {
   "cell_type": "code",
   "execution_count": 2,
   "metadata": {},
   "outputs": [],
   "source": [
    "import pandas as pd"
   ]
  },
  {
   "cell_type": "markdown",
   "metadata": {},
   "source": [
    "Let's start by understanding the two major data representations in pandas: DataFrames and Series."
   ]
  },
  {
   "cell_type": "markdown",
   "metadata": {},
   "source": [
    "### Series"
   ]
  },
  {
   "cell_type": "markdown",
   "metadata": {},
   "source": [
    "A pandas series is nothing more than a sequence of values, much like a Python list or a NumPy array. Check next cell:"
   ]
  },
  {
   "cell_type": "code",
   "execution_count": 39,
   "metadata": {},
   "outputs": [
    {
     "name": "stdout",
     "output_type": "stream",
     "text": [
      "0    1\n",
      "1    2\n",
      "2    3\n",
      "3    4\n",
      "4    5\n",
      "dtype: int64\n"
     ]
    }
   ],
   "source": [
    "sample_series = pd.Series([1, 2, 3, 4, 5])\n",
    "\n",
    "print(sample_series)"
   ]
  },
  {
   "cell_type": "markdown",
   "metadata": {},
   "source": [
    "A Series is basically a DataFrame column. But let's talk about those by the way!"
   ]
  },
  {
   "cell_type": "markdown",
   "metadata": {},
   "source": [
    "### DataFrame"
   ]
  },
  {
   "cell_type": "markdown",
   "metadata": {},
   "source": [
    "A DataFrame is a table containing an array (matrix) of individual entries. Each entry has a row and a column associated. Let's see an example with made-up clinical data."
   ]
  },
  {
   "cell_type": "code",
   "execution_count": 38,
   "metadata": {},
   "outputs": [
    {
     "name": "stdout",
     "output_type": "stream",
     "text": [
      "   Age Smoking History Disease History\n",
      "0   18      Non-smoker            None\n",
      "1   62               2        Diabetes\n",
      "2   34      Non-smoker    Hypertension\n"
     ]
    }
   ],
   "source": [
    "clincial_df = pd.DataFrame({'Age': np.array([18, 61, 34]), 'Diseases': ['None', 'Diabetes', 'Hypertension'], 'Smoking History': ['Non-smoker', 'Past smoker', 'Current smoker']})\n",
    "\n",
    "print(clinical_df)"
   ]
  },
  {
   "cell_type": "markdown",
   "metadata": {},
   "source": [
    "As you can see, we can represent and organize different types of data with DataFrames. Create a random DataFrame with movie-related data (be creative!)"
   ]
  },
  {
   "cell_type": "code",
   "execution_count": null,
   "metadata": {},
   "outputs": [],
   "source": [
    "movie_df = #insert your code here\n",
    "\n",
    "print(movie_df)"
   ]
  },
  {
   "cell_type": "markdown",
   "metadata": {},
   "source": [
    "#### Exercise 1 - Import Data"
   ]
  },
  {
   "cell_type": "markdown",
   "metadata": {},
   "source": [
    "Although I'm sure you'll agree it's pretty easy to create simple DataFrames manually, data scientists do not usually work with small data quatities such as the one you just created. Instead, they need to import data from big and heavy data files. Pandas is compatible with the most popular data formats such as \".csv\", \".txt\", \".json\", \".sql\", among others."
   ]
  },
  {
   "cell_type": "markdown",
   "metadata": {},
   "source": [
    "Let's begin by importing tabular data from a \".csv\" file. The data refers to the top songs listened in Spotify from 2009 to 2019 (https://www.kaggle.com/datasets/paradisejoy/top-hits-spotify-from-20002019?select=songs_normalize.csv). To load it, run the following cell."
   ]
  },
  {
   "cell_type": "code",
   "execution_count": 3,
   "metadata": {},
   "outputs": [],
   "source": [
    "songs_data = pd.read_csv(\"songs_normalize.csv\")"
   ]
  },
  {
   "cell_type": "markdown",
   "metadata": {},
   "source": [
    "You successfully loaded the dataset from a \".csv\" file. Check it's size with the attribute \"shape\"."
   ]
  },
  {
   "cell_type": "code",
   "execution_count": null,
   "metadata": {},
   "outputs": [],
   "source": [
    "print(\"DataFrame shape:\")\n",
    "print(songs_data.shape)\n",
    "\n",
    "print(\"This DataFrame has \" + str(songs_data.shape[0]) + \" rows and \" + str(songs_data.shape[1]) + \" columns.\")"
   ]
  },
  {
   "cell_type": "markdown",
   "metadata": {},
   "source": [
    "You can check the contents of the DataFrame by analyzing its first few rows. You do that using the atribute \"head\"."
   ]
  },
  {
   "cell_type": "code",
   "execution_count": 54,
   "metadata": {},
   "outputs": [
    {
     "name": "stdout",
     "output_type": "stream",
     "text": [
      "           artist                    song  duration_ms  explicit  year  \\\n",
      "0  Britney Spears  Oops!...I Did It Again       211160     False  2000   \n",
      "1       blink-182    All The Small Things       167066     False  1999   \n",
      "2      Faith Hill                 Breathe       250546     False  1999   \n",
      "3        Bon Jovi            It's My Life       224493     False  2000   \n",
      "4          *NSYNC             Bye Bye Bye       200560     False  2000   \n",
      "\n",
      "   popularity  danceability  energy  key  loudness  mode  speechiness  \\\n",
      "0          77         0.751   0.834    1    -5.444     0       0.0437   \n",
      "1          79         0.434   0.897    0    -4.918     1       0.0488   \n",
      "2          66         0.529   0.496    7    -9.007     1       0.0290   \n",
      "3          78         0.551   0.913    0    -4.063     0       0.0466   \n",
      "4          65         0.614   0.928    8    -4.806     0       0.0516   \n",
      "\n",
      "   acousticness  instrumentalness  liveness  valence    tempo         genre  \n",
      "0        0.3000          0.000018    0.3550    0.894   95.053           pop  \n",
      "1        0.0103          0.000000    0.6120    0.684  148.726     rock, pop  \n",
      "2        0.1730          0.000000    0.2510    0.278  136.859  pop, country  \n",
      "3        0.0263          0.000013    0.3470    0.544  119.992   rock, metal  \n",
      "4        0.0408          0.001040    0.0845    0.879  172.656           pop  \n"
     ]
    }
   ],
   "source": [
    "print(songs_data.head())"
   ]
  },
  {
   "cell_type": "markdown",
   "metadata": {},
   "source": [
    "##### Exercise 2 - Indexing"
   ]
  },
  {
   "cell_type": "markdown",
   "metadata": {},
   "source": [
    "In order to work with data, you need to know how to access data. Pandas offers you a fluid way to do that through DataFrames."
   ]
  },
  {
   "cell_type": "markdown",
   "metadata": {},
   "source": [
    "You can access a column in many ways:"
   ]
  },
  {
   "cell_type": "code",
   "execution_count": 9,
   "metadata": {},
   "outputs": [
    {
     "name": "stdout",
     "output_type": "stream",
     "text": [
      "Method 1:\n"
     ]
    },
    {
     "data": {
      "text/plain": [
       "0                       Oops!...I Did It Again\n",
       "1                         All The Small Things\n",
       "2                                      Breathe\n",
       "3                                 It's My Life\n",
       "4                                  Bye Bye Bye\n",
       "                         ...                  \n",
       "1995                                    Sucker\n",
       "1996                              Cruel Summer\n",
       "1997                                The Git Up\n",
       "1998    Dancing With A Stranger (with Normani)\n",
       "1999                                   Circles\n",
       "Name: song, Length: 2000, dtype: object"
      ]
     },
     "execution_count": 9,
     "metadata": {},
     "output_type": "execute_result"
    }
   ],
   "source": [
    "print(\"Method 1:\")\n",
    "songs_data.song\n"
   ]
  },
  {
   "cell_type": "code",
   "execution_count": 8,
   "metadata": {},
   "outputs": [
    {
     "name": "stdout",
     "output_type": "stream",
     "text": [
      "Method2\n"
     ]
    },
    {
     "data": {
      "text/plain": [
       "0                       Oops!...I Did It Again\n",
       "1                         All The Small Things\n",
       "2                                      Breathe\n",
       "3                                 It's My Life\n",
       "4                                  Bye Bye Bye\n",
       "                         ...                  \n",
       "1995                                    Sucker\n",
       "1996                              Cruel Summer\n",
       "1997                                The Git Up\n",
       "1998    Dancing With A Stranger (with Normani)\n",
       "1999                                   Circles\n",
       "Name: song, Length: 2000, dtype: object"
      ]
     },
     "execution_count": 8,
     "metadata": {},
     "output_type": "execute_result"
    }
   ],
   "source": [
    "print(\"Method2\")\n",
    "\n",
    "songs_data['song']"
   ]
  },
  {
   "cell_type": "code",
   "execution_count": 7,
   "metadata": {},
   "outputs": [
    {
     "name": "stdout",
     "output_type": "stream",
     "text": [
      "Method3\n"
     ]
    },
    {
     "data": {
      "text/plain": [
       "0                       Oops!...I Did It Again\n",
       "1                         All The Small Things\n",
       "2                                      Breathe\n",
       "3                                 It's My Life\n",
       "4                                  Bye Bye Bye\n",
       "                         ...                  \n",
       "1995                                    Sucker\n",
       "1996                              Cruel Summer\n",
       "1997                                The Git Up\n",
       "1998    Dancing With A Stranger (with Normani)\n",
       "1999                                   Circles\n",
       "Name: song, Length: 2000, dtype: object"
      ]
     },
     "execution_count": 7,
     "metadata": {},
     "output_type": "execute_result"
    }
   ],
   "source": [
    "print(\"Method3\")\n",
    "\n",
    "songs_data.loc[:,'song']"
   ]
  },
  {
   "cell_type": "markdown",
   "metadata": {},
   "source": [
    "Although they all work, you should take special interest in the third method, as it is more flexible than the other ones in terms of data accessibility."
   ]
  },
  {
   "cell_type": "markdown",
   "metadata": {},
   "source": [
    "Access the \"popularity\" column using the third method."
   ]
  },
  {
   "cell_type": "code",
   "execution_count": null,
   "metadata": {},
   "outputs": [],
   "source": [
    "popularity_col = #insert code here\n",
    "\n",
    "print(popularity_col)"
   ]
  },
  {
   "cell_type": "markdown",
   "metadata": {},
   "source": [
    ".loc is a label-based selection method. It has a similar, correspondent index-based selection method: .iloc. Try it! Select and print the second column (songs columns) of the songs DataFrame using .iloc."
   ]
  },
  {
   "cell_type": "code",
   "execution_count": null,
   "metadata": {},
   "outputs": [],
   "source": [
    "second_col = #insert code here\n",
    "\n",
    "print(second_col)"
   ]
  },
  {
   "cell_type": "markdown",
   "metadata": {},
   "source": [
    "This methods allow you to select both rows and columns at the same time, and you can even select groups of both entities (similar to what you did when slicing NumPy arrays). Check this example:"
   ]
  },
  {
   "cell_type": "code",
   "execution_count": 73,
   "metadata": {},
   "outputs": [
    {
     "name": "stdout",
     "output_type": "stream",
     "text": [
      "       artist                  song  duration_ms  explicit\n",
      "1   blink-182  All The Small Things       167066     False\n",
      "2  Faith Hill               Breathe       250546     False\n"
     ]
    }
   ],
   "source": [
    "example = songs_data.iloc[1:3, 0:4]\n",
    "\n",
    "print(example)"
   ]
  },
  {
   "cell_type": "markdown",
   "metadata": {},
   "source": [
    "The first argument refers to the rows, while the second indicates the columns. Now it's your turn, select the contents of the last three columns, for the patients from 6 to 10."
   ]
  },
  {
   "cell_type": "code",
   "execution_count": null,
   "metadata": {},
   "outputs": [],
   "source": [
    "selection = #insert your code here\n",
    "print(selection)"
   ]
  },
  {
   "cell_type": "markdown",
   "metadata": {},
   "source": [
    "The .loc method also allows you to perform conditional selection."
   ]
  },
  {
   "cell_type": "code",
   "execution_count": 78,
   "metadata": {},
   "outputs": [
    {
     "data": {
      "text/html": [
       "<div>\n",
       "<style scoped>\n",
       "    .dataframe tbody tr th:only-of-type {\n",
       "        vertical-align: middle;\n",
       "    }\n",
       "\n",
       "    .dataframe tbody tr th {\n",
       "        vertical-align: top;\n",
       "    }\n",
       "\n",
       "    .dataframe thead th {\n",
       "        text-align: right;\n",
       "    }\n",
       "</style>\n",
       "<table border=\"1\" class=\"dataframe\">\n",
       "  <thead>\n",
       "    <tr style=\"text-align: right;\">\n",
       "      <th></th>\n",
       "      <th>artist</th>\n",
       "      <th>song</th>\n",
       "      <th>duration_ms</th>\n",
       "      <th>explicit</th>\n",
       "      <th>year</th>\n",
       "      <th>popularity</th>\n",
       "      <th>danceability</th>\n",
       "      <th>energy</th>\n",
       "      <th>key</th>\n",
       "      <th>loudness</th>\n",
       "      <th>mode</th>\n",
       "      <th>speechiness</th>\n",
       "      <th>acousticness</th>\n",
       "      <th>instrumentalness</th>\n",
       "      <th>liveness</th>\n",
       "      <th>valence</th>\n",
       "      <th>tempo</th>\n",
       "      <th>genre</th>\n",
       "    </tr>\n",
       "  </thead>\n",
       "  <tbody>\n",
       "    <tr>\n",
       "      <th>0</th>\n",
       "      <td>Britney Spears</td>\n",
       "      <td>Oops!...I Did It Again</td>\n",
       "      <td>211160</td>\n",
       "      <td>False</td>\n",
       "      <td>2000</td>\n",
       "      <td>77</td>\n",
       "      <td>0.751</td>\n",
       "      <td>0.834</td>\n",
       "      <td>1</td>\n",
       "      <td>-5.444</td>\n",
       "      <td>0</td>\n",
       "      <td>0.0437</td>\n",
       "      <td>0.30000</td>\n",
       "      <td>0.000018</td>\n",
       "      <td>0.3550</td>\n",
       "      <td>0.894</td>\n",
       "      <td>95.053</td>\n",
       "      <td>pop</td>\n",
       "    </tr>\n",
       "    <tr>\n",
       "      <th>34</th>\n",
       "      <td>Britney Spears</td>\n",
       "      <td>Born to Make You Happy</td>\n",
       "      <td>243533</td>\n",
       "      <td>False</td>\n",
       "      <td>1999</td>\n",
       "      <td>58</td>\n",
       "      <td>0.633</td>\n",
       "      <td>0.922</td>\n",
       "      <td>11</td>\n",
       "      <td>-4.842</td>\n",
       "      <td>0</td>\n",
       "      <td>0.0454</td>\n",
       "      <td>0.11600</td>\n",
       "      <td>0.000465</td>\n",
       "      <td>0.0710</td>\n",
       "      <td>0.686</td>\n",
       "      <td>84.110</td>\n",
       "      <td>pop</td>\n",
       "    </tr>\n",
       "    <tr>\n",
       "      <th>98</th>\n",
       "      <td>Britney Spears</td>\n",
       "      <td>Lucky</td>\n",
       "      <td>206226</td>\n",
       "      <td>False</td>\n",
       "      <td>2000</td>\n",
       "      <td>65</td>\n",
       "      <td>0.765</td>\n",
       "      <td>0.791</td>\n",
       "      <td>8</td>\n",
       "      <td>-5.707</td>\n",
       "      <td>1</td>\n",
       "      <td>0.0317</td>\n",
       "      <td>0.26200</td>\n",
       "      <td>0.000154</td>\n",
       "      <td>0.0669</td>\n",
       "      <td>0.966</td>\n",
       "      <td>95.026</td>\n",
       "      <td>pop</td>\n",
       "    </tr>\n",
       "    <tr>\n",
       "      <th>111</th>\n",
       "      <td>Britney Spears</td>\n",
       "      <td>I'm a Slave 4 U</td>\n",
       "      <td>203600</td>\n",
       "      <td>False</td>\n",
       "      <td>2001</td>\n",
       "      <td>69</td>\n",
       "      <td>0.847</td>\n",
       "      <td>0.843</td>\n",
       "      <td>5</td>\n",
       "      <td>-3.579</td>\n",
       "      <td>0</td>\n",
       "      <td>0.1060</td>\n",
       "      <td>0.41500</td>\n",
       "      <td>0.000134</td>\n",
       "      <td>0.1070</td>\n",
       "      <td>0.963</td>\n",
       "      <td>110.027</td>\n",
       "      <td>pop</td>\n",
       "    </tr>\n",
       "    <tr>\n",
       "      <th>223</th>\n",
       "      <td>Britney Spears</td>\n",
       "      <td>Overprotected - Radio Edit</td>\n",
       "      <td>198600</td>\n",
       "      <td>False</td>\n",
       "      <td>2001</td>\n",
       "      <td>61</td>\n",
       "      <td>0.682</td>\n",
       "      <td>0.894</td>\n",
       "      <td>0</td>\n",
       "      <td>-1.730</td>\n",
       "      <td>0</td>\n",
       "      <td>0.0727</td>\n",
       "      <td>0.03810</td>\n",
       "      <td>0.000000</td>\n",
       "      <td>0.4160</td>\n",
       "      <td>0.845</td>\n",
       "      <td>95.992</td>\n",
       "      <td>pop</td>\n",
       "    </tr>\n",
       "    <tr>\n",
       "      <th>278</th>\n",
       "      <td>Britney Spears</td>\n",
       "      <td>I'm Not a Girl, Not Yet a Woman</td>\n",
       "      <td>231066</td>\n",
       "      <td>False</td>\n",
       "      <td>2001</td>\n",
       "      <td>58</td>\n",
       "      <td>0.534</td>\n",
       "      <td>0.543</td>\n",
       "      <td>3</td>\n",
       "      <td>-6.857</td>\n",
       "      <td>1</td>\n",
       "      <td>0.0245</td>\n",
       "      <td>0.57900</td>\n",
       "      <td>0.000000</td>\n",
       "      <td>0.1120</td>\n",
       "      <td>0.418</td>\n",
       "      <td>78.996</td>\n",
       "      <td>pop</td>\n",
       "    </tr>\n",
       "    <tr>\n",
       "      <th>326</th>\n",
       "      <td>Britney Spears</td>\n",
       "      <td>Me Against the Music (feat. Madonna) - LP Vers...</td>\n",
       "      <td>223773</td>\n",
       "      <td>False</td>\n",
       "      <td>2003</td>\n",
       "      <td>59</td>\n",
       "      <td>0.804</td>\n",
       "      <td>0.836</td>\n",
       "      <td>6</td>\n",
       "      <td>-6.635</td>\n",
       "      <td>0</td>\n",
       "      <td>0.0890</td>\n",
       "      <td>0.32000</td>\n",
       "      <td>0.000000</td>\n",
       "      <td>0.2130</td>\n",
       "      <td>0.850</td>\n",
       "      <td>120.046</td>\n",
       "      <td>pop</td>\n",
       "    </tr>\n",
       "    <tr>\n",
       "      <th>402</th>\n",
       "      <td>Britney Spears</td>\n",
       "      <td>Toxic</td>\n",
       "      <td>198800</td>\n",
       "      <td>False</td>\n",
       "      <td>2003</td>\n",
       "      <td>81</td>\n",
       "      <td>0.774</td>\n",
       "      <td>0.838</td>\n",
       "      <td>5</td>\n",
       "      <td>-3.914</td>\n",
       "      <td>0</td>\n",
       "      <td>0.1140</td>\n",
       "      <td>0.02490</td>\n",
       "      <td>0.025000</td>\n",
       "      <td>0.2420</td>\n",
       "      <td>0.924</td>\n",
       "      <td>143.040</td>\n",
       "      <td>pop</td>\n",
       "    </tr>\n",
       "    <tr>\n",
       "      <th>429</th>\n",
       "      <td>Britney Spears</td>\n",
       "      <td>My Prerogative</td>\n",
       "      <td>213893</td>\n",
       "      <td>False</td>\n",
       "      <td>2004</td>\n",
       "      <td>53</td>\n",
       "      <td>0.749</td>\n",
       "      <td>0.938</td>\n",
       "      <td>10</td>\n",
       "      <td>-4.423</td>\n",
       "      <td>0</td>\n",
       "      <td>0.1180</td>\n",
       "      <td>0.01270</td>\n",
       "      <td>0.000002</td>\n",
       "      <td>0.1030</td>\n",
       "      <td>0.619</td>\n",
       "      <td>111.014</td>\n",
       "      <td>pop</td>\n",
       "    </tr>\n",
       "    <tr>\n",
       "      <th>459</th>\n",
       "      <td>Britney Spears</td>\n",
       "      <td>Everytime</td>\n",
       "      <td>230306</td>\n",
       "      <td>False</td>\n",
       "      <td>2003</td>\n",
       "      <td>63</td>\n",
       "      <td>0.398</td>\n",
       "      <td>0.284</td>\n",
       "      <td>3</td>\n",
       "      <td>-12.852</td>\n",
       "      <td>1</td>\n",
       "      <td>0.0337</td>\n",
       "      <td>0.96600</td>\n",
       "      <td>0.000086</td>\n",
       "      <td>0.1160</td>\n",
       "      <td>0.114</td>\n",
       "      <td>109.599</td>\n",
       "      <td>pop</td>\n",
       "    </tr>\n",
       "    <tr>\n",
       "      <th>702</th>\n",
       "      <td>Britney Spears</td>\n",
       "      <td>Gimme More</td>\n",
       "      <td>251240</td>\n",
       "      <td>False</td>\n",
       "      <td>2007</td>\n",
       "      <td>79</td>\n",
       "      <td>0.788</td>\n",
       "      <td>0.844</td>\n",
       "      <td>2</td>\n",
       "      <td>-3.131</td>\n",
       "      <td>1</td>\n",
       "      <td>0.0334</td>\n",
       "      <td>0.25000</td>\n",
       "      <td>0.000678</td>\n",
       "      <td>0.0723</td>\n",
       "      <td>0.382</td>\n",
       "      <td>113.324</td>\n",
       "      <td>pop</td>\n",
       "    </tr>\n",
       "    <tr>\n",
       "      <th>813</th>\n",
       "      <td>Britney Spears</td>\n",
       "      <td>Break the Ice</td>\n",
       "      <td>196053</td>\n",
       "      <td>False</td>\n",
       "      <td>2007</td>\n",
       "      <td>61</td>\n",
       "      <td>0.712</td>\n",
       "      <td>0.911</td>\n",
       "      <td>5</td>\n",
       "      <td>-3.866</td>\n",
       "      <td>0</td>\n",
       "      <td>0.0445</td>\n",
       "      <td>0.68900</td>\n",
       "      <td>0.000008</td>\n",
       "      <td>0.1070</td>\n",
       "      <td>0.850</td>\n",
       "      <td>117.533</td>\n",
       "      <td>pop</td>\n",
       "    </tr>\n",
       "    <tr>\n",
       "      <th>822</th>\n",
       "      <td>Britney Spears</td>\n",
       "      <td>Womanizer</td>\n",
       "      <td>224400</td>\n",
       "      <td>False</td>\n",
       "      <td>2008</td>\n",
       "      <td>76</td>\n",
       "      <td>0.724</td>\n",
       "      <td>0.695</td>\n",
       "      <td>11</td>\n",
       "      <td>-5.226</td>\n",
       "      <td>1</td>\n",
       "      <td>0.0622</td>\n",
       "      <td>0.07300</td>\n",
       "      <td>0.000000</td>\n",
       "      <td>0.0889</td>\n",
       "      <td>0.235</td>\n",
       "      <td>139.000</td>\n",
       "      <td>pop</td>\n",
       "    </tr>\n",
       "    <tr>\n",
       "      <th>830</th>\n",
       "      <td>Britney Spears</td>\n",
       "      <td>Piece of Me</td>\n",
       "      <td>212106</td>\n",
       "      <td>False</td>\n",
       "      <td>2007</td>\n",
       "      <td>64</td>\n",
       "      <td>0.769</td>\n",
       "      <td>0.638</td>\n",
       "      <td>11</td>\n",
       "      <td>-5.054</td>\n",
       "      <td>1</td>\n",
       "      <td>0.2160</td>\n",
       "      <td>0.09020</td>\n",
       "      <td>0.000000</td>\n",
       "      <td>0.0857</td>\n",
       "      <td>0.782</td>\n",
       "      <td>115.007</td>\n",
       "      <td>pop</td>\n",
       "    </tr>\n",
       "    <tr>\n",
       "      <th>907</th>\n",
       "      <td>Britney Spears</td>\n",
       "      <td>Circus</td>\n",
       "      <td>192360</td>\n",
       "      <td>False</td>\n",
       "      <td>2008</td>\n",
       "      <td>74</td>\n",
       "      <td>0.791</td>\n",
       "      <td>0.733</td>\n",
       "      <td>6</td>\n",
       "      <td>-5.215</td>\n",
       "      <td>0</td>\n",
       "      <td>0.0520</td>\n",
       "      <td>0.14700</td>\n",
       "      <td>0.000381</td>\n",
       "      <td>0.0713</td>\n",
       "      <td>0.761</td>\n",
       "      <td>114.980</td>\n",
       "      <td>pop</td>\n",
       "    </tr>\n",
       "    <tr>\n",
       "      <th>915</th>\n",
       "      <td>Britney Spears</td>\n",
       "      <td>If U Seek Amy</td>\n",
       "      <td>216520</td>\n",
       "      <td>False</td>\n",
       "      <td>2008</td>\n",
       "      <td>69</td>\n",
       "      <td>0.717</td>\n",
       "      <td>0.587</td>\n",
       "      <td>4</td>\n",
       "      <td>-7.296</td>\n",
       "      <td>0</td>\n",
       "      <td>0.0339</td>\n",
       "      <td>0.01920</td>\n",
       "      <td>0.000000</td>\n",
       "      <td>0.0523</td>\n",
       "      <td>0.544</td>\n",
       "      <td>129.954</td>\n",
       "      <td>pop</td>\n",
       "    </tr>\n",
       "    <tr>\n",
       "      <th>1122</th>\n",
       "      <td>Britney Spears</td>\n",
       "      <td>I Wanna Go</td>\n",
       "      <td>210266</td>\n",
       "      <td>False</td>\n",
       "      <td>2011</td>\n",
       "      <td>66</td>\n",
       "      <td>0.696</td>\n",
       "      <td>0.546</td>\n",
       "      <td>5</td>\n",
       "      <td>-6.550</td>\n",
       "      <td>1</td>\n",
       "      <td>0.0414</td>\n",
       "      <td>0.00379</td>\n",
       "      <td>0.000004</td>\n",
       "      <td>0.3320</td>\n",
       "      <td>0.787</td>\n",
       "      <td>130.002</td>\n",
       "      <td>pop</td>\n",
       "    </tr>\n",
       "    <tr>\n",
       "      <th>1136</th>\n",
       "      <td>Britney Spears</td>\n",
       "      <td>Till the World Ends</td>\n",
       "      <td>237946</td>\n",
       "      <td>False</td>\n",
       "      <td>2011</td>\n",
       "      <td>65</td>\n",
       "      <td>0.693</td>\n",
       "      <td>0.705</td>\n",
       "      <td>8</td>\n",
       "      <td>-5.747</td>\n",
       "      <td>1</td>\n",
       "      <td>0.0665</td>\n",
       "      <td>0.02280</td>\n",
       "      <td>0.000000</td>\n",
       "      <td>0.2020</td>\n",
       "      <td>0.450</td>\n",
       "      <td>131.951</td>\n",
       "      <td>pop</td>\n",
       "    </tr>\n",
       "    <tr>\n",
       "      <th>1321</th>\n",
       "      <td>Britney Spears</td>\n",
       "      <td>Work B**ch</td>\n",
       "      <td>247853</td>\n",
       "      <td>True</td>\n",
       "      <td>2013</td>\n",
       "      <td>0</td>\n",
       "      <td>0.630</td>\n",
       "      <td>0.816</td>\n",
       "      <td>9</td>\n",
       "      <td>-6.535</td>\n",
       "      <td>1</td>\n",
       "      <td>0.1500</td>\n",
       "      <td>0.12400</td>\n",
       "      <td>0.001110</td>\n",
       "      <td>0.0616</td>\n",
       "      <td>0.850</td>\n",
       "      <td>128.012</td>\n",
       "      <td>pop</td>\n",
       "    </tr>\n",
       "  </tbody>\n",
       "</table>\n",
       "</div>"
      ],
      "text/plain": [
       "              artist                                               song  \\\n",
       "0     Britney Spears                             Oops!...I Did It Again   \n",
       "34    Britney Spears                             Born to Make You Happy   \n",
       "98    Britney Spears                                              Lucky   \n",
       "111   Britney Spears                                    I'm a Slave 4 U   \n",
       "223   Britney Spears                         Overprotected - Radio Edit   \n",
       "278   Britney Spears                    I'm Not a Girl, Not Yet a Woman   \n",
       "326   Britney Spears  Me Against the Music (feat. Madonna) - LP Vers...   \n",
       "402   Britney Spears                                              Toxic   \n",
       "429   Britney Spears                                     My Prerogative   \n",
       "459   Britney Spears                                          Everytime   \n",
       "702   Britney Spears                                         Gimme More   \n",
       "813   Britney Spears                                      Break the Ice   \n",
       "822   Britney Spears                                          Womanizer   \n",
       "830   Britney Spears                                        Piece of Me   \n",
       "907   Britney Spears                                             Circus   \n",
       "915   Britney Spears                                      If U Seek Amy   \n",
       "1122  Britney Spears                                         I Wanna Go   \n",
       "1136  Britney Spears                                Till the World Ends   \n",
       "1321  Britney Spears                                         Work B**ch   \n",
       "\n",
       "      duration_ms  explicit  year  popularity  danceability  energy  key  \\\n",
       "0          211160     False  2000          77         0.751   0.834    1   \n",
       "34         243533     False  1999          58         0.633   0.922   11   \n",
       "98         206226     False  2000          65         0.765   0.791    8   \n",
       "111        203600     False  2001          69         0.847   0.843    5   \n",
       "223        198600     False  2001          61         0.682   0.894    0   \n",
       "278        231066     False  2001          58         0.534   0.543    3   \n",
       "326        223773     False  2003          59         0.804   0.836    6   \n",
       "402        198800     False  2003          81         0.774   0.838    5   \n",
       "429        213893     False  2004          53         0.749   0.938   10   \n",
       "459        230306     False  2003          63         0.398   0.284    3   \n",
       "702        251240     False  2007          79         0.788   0.844    2   \n",
       "813        196053     False  2007          61         0.712   0.911    5   \n",
       "822        224400     False  2008          76         0.724   0.695   11   \n",
       "830        212106     False  2007          64         0.769   0.638   11   \n",
       "907        192360     False  2008          74         0.791   0.733    6   \n",
       "915        216520     False  2008          69         0.717   0.587    4   \n",
       "1122       210266     False  2011          66         0.696   0.546    5   \n",
       "1136       237946     False  2011          65         0.693   0.705    8   \n",
       "1321       247853      True  2013           0         0.630   0.816    9   \n",
       "\n",
       "      loudness  mode  speechiness  acousticness  instrumentalness  liveness  \\\n",
       "0       -5.444     0       0.0437       0.30000          0.000018    0.3550   \n",
       "34      -4.842     0       0.0454       0.11600          0.000465    0.0710   \n",
       "98      -5.707     1       0.0317       0.26200          0.000154    0.0669   \n",
       "111     -3.579     0       0.1060       0.41500          0.000134    0.1070   \n",
       "223     -1.730     0       0.0727       0.03810          0.000000    0.4160   \n",
       "278     -6.857     1       0.0245       0.57900          0.000000    0.1120   \n",
       "326     -6.635     0       0.0890       0.32000          0.000000    0.2130   \n",
       "402     -3.914     0       0.1140       0.02490          0.025000    0.2420   \n",
       "429     -4.423     0       0.1180       0.01270          0.000002    0.1030   \n",
       "459    -12.852     1       0.0337       0.96600          0.000086    0.1160   \n",
       "702     -3.131     1       0.0334       0.25000          0.000678    0.0723   \n",
       "813     -3.866     0       0.0445       0.68900          0.000008    0.1070   \n",
       "822     -5.226     1       0.0622       0.07300          0.000000    0.0889   \n",
       "830     -5.054     1       0.2160       0.09020          0.000000    0.0857   \n",
       "907     -5.215     0       0.0520       0.14700          0.000381    0.0713   \n",
       "915     -7.296     0       0.0339       0.01920          0.000000    0.0523   \n",
       "1122    -6.550     1       0.0414       0.00379          0.000004    0.3320   \n",
       "1136    -5.747     1       0.0665       0.02280          0.000000    0.2020   \n",
       "1321    -6.535     1       0.1500       0.12400          0.001110    0.0616   \n",
       "\n",
       "      valence    tempo genre  \n",
       "0       0.894   95.053   pop  \n",
       "34      0.686   84.110   pop  \n",
       "98      0.966   95.026   pop  \n",
       "111     0.963  110.027   pop  \n",
       "223     0.845   95.992   pop  \n",
       "278     0.418   78.996   pop  \n",
       "326     0.850  120.046   pop  \n",
       "402     0.924  143.040   pop  \n",
       "429     0.619  111.014   pop  \n",
       "459     0.114  109.599   pop  \n",
       "702     0.382  113.324   pop  \n",
       "813     0.850  117.533   pop  \n",
       "822     0.235  139.000   pop  \n",
       "830     0.782  115.007   pop  \n",
       "907     0.761  114.980   pop  \n",
       "915     0.544  129.954   pop  \n",
       "1122    0.787  130.002   pop  \n",
       "1136    0.450  131.951   pop  \n",
       "1321    0.850  128.012   pop  "
      ]
     },
     "execution_count": 78,
     "metadata": {},
     "output_type": "execute_result"
    }
   ],
   "source": [
    "songs_data.loc[songs_data.artist == 'Britney Spears']"
   ]
  },
  {
   "cell_type": "markdown",
   "metadata": {},
   "source": [
    "Try it yourself. Select all data correspondent to songs with energy above 0.98."
   ]
  },
  {
   "cell_type": "code",
   "execution_count": 10,
   "metadata": {},
   "outputs": [
    {
     "data": {
      "text/html": [
       "<div>\n",
       "<style scoped>\n",
       "    .dataframe tbody tr th:only-of-type {\n",
       "        vertical-align: middle;\n",
       "    }\n",
       "\n",
       "    .dataframe tbody tr th {\n",
       "        vertical-align: top;\n",
       "    }\n",
       "\n",
       "    .dataframe thead th {\n",
       "        text-align: right;\n",
       "    }\n",
       "</style>\n",
       "<table border=\"1\" class=\"dataframe\">\n",
       "  <thead>\n",
       "    <tr style=\"text-align: right;\">\n",
       "      <th></th>\n",
       "      <th>artist</th>\n",
       "      <th>song</th>\n",
       "      <th>duration_ms</th>\n",
       "      <th>explicit</th>\n",
       "      <th>year</th>\n",
       "      <th>popularity</th>\n",
       "      <th>danceability</th>\n",
       "      <th>energy</th>\n",
       "      <th>key</th>\n",
       "      <th>loudness</th>\n",
       "      <th>mode</th>\n",
       "      <th>speechiness</th>\n",
       "      <th>acousticness</th>\n",
       "      <th>instrumentalness</th>\n",
       "      <th>liveness</th>\n",
       "      <th>valence</th>\n",
       "      <th>tempo</th>\n",
       "      <th>genre</th>\n",
       "    </tr>\n",
       "  </thead>\n",
       "  <tbody>\n",
       "    <tr>\n",
       "      <th>74</th>\n",
       "      <td>Madison Avenue</td>\n",
       "      <td>Don't Call Me Baby</td>\n",
       "      <td>228140</td>\n",
       "      <td>False</td>\n",
       "      <td>1999</td>\n",
       "      <td>56</td>\n",
       "      <td>0.808</td>\n",
       "      <td>0.982</td>\n",
       "      <td>3</td>\n",
       "      <td>-6.588</td>\n",
       "      <td>0</td>\n",
       "      <td>0.0311</td>\n",
       "      <td>0.058500</td>\n",
       "      <td>0.006890</td>\n",
       "      <td>0.350</td>\n",
       "      <td>0.961</td>\n",
       "      <td>124.999</td>\n",
       "      <td>Dance/Electronic</td>\n",
       "    </tr>\n",
       "    <tr>\n",
       "      <th>117</th>\n",
       "      <td>Lasgo</td>\n",
       "      <td>Something</td>\n",
       "      <td>220973</td>\n",
       "      <td>False</td>\n",
       "      <td>2001</td>\n",
       "      <td>65</td>\n",
       "      <td>0.643</td>\n",
       "      <td>0.981</td>\n",
       "      <td>7</td>\n",
       "      <td>-6.644</td>\n",
       "      <td>0</td>\n",
       "      <td>0.0439</td>\n",
       "      <td>0.027100</td>\n",
       "      <td>0.000089</td>\n",
       "      <td>0.110</td>\n",
       "      <td>0.380</td>\n",
       "      <td>140.010</td>\n",
       "      <td>pop</td>\n",
       "    </tr>\n",
       "    <tr>\n",
       "      <th>472</th>\n",
       "      <td>Green Day</td>\n",
       "      <td>American Idiot</td>\n",
       "      <td>176346</td>\n",
       "      <td>True</td>\n",
       "      <td>2004</td>\n",
       "      <td>77</td>\n",
       "      <td>0.380</td>\n",
       "      <td>0.988</td>\n",
       "      <td>1</td>\n",
       "      <td>-2.042</td>\n",
       "      <td>1</td>\n",
       "      <td>0.0639</td>\n",
       "      <td>0.000026</td>\n",
       "      <td>0.000079</td>\n",
       "      <td>0.368</td>\n",
       "      <td>0.769</td>\n",
       "      <td>186.113</td>\n",
       "      <td>rock</td>\n",
       "    </tr>\n",
       "    <tr>\n",
       "      <th>477</th>\n",
       "      <td>Special D.</td>\n",
       "      <td>Come With Me - Radio Edit</td>\n",
       "      <td>185133</td>\n",
       "      <td>False</td>\n",
       "      <td>2004</td>\n",
       "      <td>61</td>\n",
       "      <td>0.739</td>\n",
       "      <td>0.999</td>\n",
       "      <td>7</td>\n",
       "      <td>-5.077</td>\n",
       "      <td>1</td>\n",
       "      <td>0.0803</td>\n",
       "      <td>0.130000</td>\n",
       "      <td>0.002240</td>\n",
       "      <td>0.280</td>\n",
       "      <td>0.501</td>\n",
       "      <td>139.982</td>\n",
       "      <td>pop</td>\n",
       "    </tr>\n",
       "    <tr>\n",
       "      <th>836</th>\n",
       "      <td>Basshunter</td>\n",
       "      <td>All I Ever Wanted - Radio Edit</td>\n",
       "      <td>176453</td>\n",
       "      <td>False</td>\n",
       "      <td>2008</td>\n",
       "      <td>65</td>\n",
       "      <td>0.645</td>\n",
       "      <td>0.984</td>\n",
       "      <td>4</td>\n",
       "      <td>-7.051</td>\n",
       "      <td>1</td>\n",
       "      <td>0.0508</td>\n",
       "      <td>0.164000</td>\n",
       "      <td>0.007010</td>\n",
       "      <td>0.164</td>\n",
       "      <td>0.553</td>\n",
       "      <td>144.954</td>\n",
       "      <td>pop</td>\n",
       "    </tr>\n",
       "    <tr>\n",
       "      <th>1309</th>\n",
       "      <td>Bingo Players</td>\n",
       "      <td>Get Up (Rattle) - Vocal Edit</td>\n",
       "      <td>166933</td>\n",
       "      <td>False</td>\n",
       "      <td>2013</td>\n",
       "      <td>1</td>\n",
       "      <td>0.801</td>\n",
       "      <td>0.985</td>\n",
       "      <td>7</td>\n",
       "      <td>-2.690</td>\n",
       "      <td>1</td>\n",
       "      <td>0.0645</td>\n",
       "      <td>0.020500</td>\n",
       "      <td>0.000007</td>\n",
       "      <td>0.296</td>\n",
       "      <td>0.722</td>\n",
       "      <td>127.990</td>\n",
       "      <td>pop, Dance/Electronic</td>\n",
       "    </tr>\n",
       "  </tbody>\n",
       "</table>\n",
       "</div>"
      ],
      "text/plain": [
       "              artist                            song  duration_ms  explicit  \\\n",
       "74    Madison Avenue              Don't Call Me Baby       228140     False   \n",
       "117            Lasgo                       Something       220973     False   \n",
       "472        Green Day                  American Idiot       176346      True   \n",
       "477       Special D.       Come With Me - Radio Edit       185133     False   \n",
       "836       Basshunter  All I Ever Wanted - Radio Edit       176453     False   \n",
       "1309   Bingo Players    Get Up (Rattle) - Vocal Edit       166933     False   \n",
       "\n",
       "      year  popularity  danceability  energy  key  loudness  mode  \\\n",
       "74    1999          56         0.808   0.982    3    -6.588     0   \n",
       "117   2001          65         0.643   0.981    7    -6.644     0   \n",
       "472   2004          77         0.380   0.988    1    -2.042     1   \n",
       "477   2004          61         0.739   0.999    7    -5.077     1   \n",
       "836   2008          65         0.645   0.984    4    -7.051     1   \n",
       "1309  2013           1         0.801   0.985    7    -2.690     1   \n",
       "\n",
       "      speechiness  acousticness  instrumentalness  liveness  valence    tempo  \\\n",
       "74         0.0311      0.058500          0.006890     0.350    0.961  124.999   \n",
       "117        0.0439      0.027100          0.000089     0.110    0.380  140.010   \n",
       "472        0.0639      0.000026          0.000079     0.368    0.769  186.113   \n",
       "477        0.0803      0.130000          0.002240     0.280    0.501  139.982   \n",
       "836        0.0508      0.164000          0.007010     0.164    0.553  144.954   \n",
       "1309       0.0645      0.020500          0.000007     0.296    0.722  127.990   \n",
       "\n",
       "                      genre  \n",
       "74         Dance/Electronic  \n",
       "117                     pop  \n",
       "472                    rock  \n",
       "477                     pop  \n",
       "836                     pop  \n",
       "1309  pop, Dance/Electronic  "
      ]
     },
     "execution_count": 10,
     "metadata": {},
     "output_type": "execute_result"
    }
   ],
   "source": [
    "selected_data = #insert code here\n",
    "\n",
    "selected_data"
   ]
  },
  {
   "cell_type": "markdown",
   "metadata": {},
   "source": [
    "#### Exercise 3 - Data Analysis and Summarization with Pandas"
   ]
  },
  {
   "cell_type": "markdown",
   "metadata": {},
   "source": [
    "Now the fun really begins! As you may know, a fundamental part of the machine learning workflow is the analysis of the data you'll be working with. You need to know your data, in order to understand how you can make the most out of it."
   ]
  },
  {
   "cell_type": "markdown",
   "metadata": {},
   "source": [
    "Pandas describe method provides an overview on the fundamental statistical values describing the distribution of each variable (column) within the dataset."
   ]
  },
  {
   "cell_type": "code",
   "execution_count": 12,
   "metadata": {},
   "outputs": [
    {
     "data": {
      "text/html": [
       "<div>\n",
       "<style scoped>\n",
       "    .dataframe tbody tr th:only-of-type {\n",
       "        vertical-align: middle;\n",
       "    }\n",
       "\n",
       "    .dataframe tbody tr th {\n",
       "        vertical-align: top;\n",
       "    }\n",
       "\n",
       "    .dataframe thead th {\n",
       "        text-align: right;\n",
       "    }\n",
       "</style>\n",
       "<table border=\"1\" class=\"dataframe\">\n",
       "  <thead>\n",
       "    <tr style=\"text-align: right;\">\n",
       "      <th></th>\n",
       "      <th>duration_ms</th>\n",
       "      <th>year</th>\n",
       "      <th>popularity</th>\n",
       "      <th>danceability</th>\n",
       "      <th>energy</th>\n",
       "      <th>key</th>\n",
       "      <th>loudness</th>\n",
       "      <th>mode</th>\n",
       "      <th>speechiness</th>\n",
       "      <th>acousticness</th>\n",
       "      <th>instrumentalness</th>\n",
       "      <th>liveness</th>\n",
       "      <th>valence</th>\n",
       "      <th>tempo</th>\n",
       "    </tr>\n",
       "  </thead>\n",
       "  <tbody>\n",
       "    <tr>\n",
       "      <th>count</th>\n",
       "      <td>2000.000000</td>\n",
       "      <td>2000.00000</td>\n",
       "      <td>2000.000000</td>\n",
       "      <td>2000.000000</td>\n",
       "      <td>2000.000000</td>\n",
       "      <td>2000.000000</td>\n",
       "      <td>2000.000000</td>\n",
       "      <td>2000.000000</td>\n",
       "      <td>2000.000000</td>\n",
       "      <td>2000.000000</td>\n",
       "      <td>2000.000000</td>\n",
       "      <td>2000.000000</td>\n",
       "      <td>2000.000000</td>\n",
       "      <td>2000.000000</td>\n",
       "    </tr>\n",
       "    <tr>\n",
       "      <th>mean</th>\n",
       "      <td>228748.124500</td>\n",
       "      <td>2009.49400</td>\n",
       "      <td>59.872500</td>\n",
       "      <td>0.667438</td>\n",
       "      <td>0.720366</td>\n",
       "      <td>5.378000</td>\n",
       "      <td>-5.512434</td>\n",
       "      <td>0.553500</td>\n",
       "      <td>0.103568</td>\n",
       "      <td>0.128955</td>\n",
       "      <td>0.015226</td>\n",
       "      <td>0.181216</td>\n",
       "      <td>0.551690</td>\n",
       "      <td>120.122558</td>\n",
       "    </tr>\n",
       "    <tr>\n",
       "      <th>std</th>\n",
       "      <td>39136.569008</td>\n",
       "      <td>5.85996</td>\n",
       "      <td>21.335577</td>\n",
       "      <td>0.140416</td>\n",
       "      <td>0.152745</td>\n",
       "      <td>3.615059</td>\n",
       "      <td>1.933482</td>\n",
       "      <td>0.497254</td>\n",
       "      <td>0.096159</td>\n",
       "      <td>0.173346</td>\n",
       "      <td>0.087771</td>\n",
       "      <td>0.140669</td>\n",
       "      <td>0.220864</td>\n",
       "      <td>26.967112</td>\n",
       "    </tr>\n",
       "    <tr>\n",
       "      <th>min</th>\n",
       "      <td>113000.000000</td>\n",
       "      <td>1998.00000</td>\n",
       "      <td>0.000000</td>\n",
       "      <td>0.129000</td>\n",
       "      <td>0.054900</td>\n",
       "      <td>0.000000</td>\n",
       "      <td>-20.514000</td>\n",
       "      <td>0.000000</td>\n",
       "      <td>0.023200</td>\n",
       "      <td>0.000019</td>\n",
       "      <td>0.000000</td>\n",
       "      <td>0.021500</td>\n",
       "      <td>0.038100</td>\n",
       "      <td>60.019000</td>\n",
       "    </tr>\n",
       "    <tr>\n",
       "      <th>25%</th>\n",
       "      <td>203580.000000</td>\n",
       "      <td>2004.00000</td>\n",
       "      <td>56.000000</td>\n",
       "      <td>0.581000</td>\n",
       "      <td>0.622000</td>\n",
       "      <td>2.000000</td>\n",
       "      <td>-6.490250</td>\n",
       "      <td>0.000000</td>\n",
       "      <td>0.039600</td>\n",
       "      <td>0.014000</td>\n",
       "      <td>0.000000</td>\n",
       "      <td>0.088100</td>\n",
       "      <td>0.386750</td>\n",
       "      <td>98.985750</td>\n",
       "    </tr>\n",
       "    <tr>\n",
       "      <th>50%</th>\n",
       "      <td>223279.500000</td>\n",
       "      <td>2010.00000</td>\n",
       "      <td>65.500000</td>\n",
       "      <td>0.676000</td>\n",
       "      <td>0.736000</td>\n",
       "      <td>6.000000</td>\n",
       "      <td>-5.285000</td>\n",
       "      <td>1.000000</td>\n",
       "      <td>0.059850</td>\n",
       "      <td>0.055700</td>\n",
       "      <td>0.000000</td>\n",
       "      <td>0.124000</td>\n",
       "      <td>0.557500</td>\n",
       "      <td>120.021500</td>\n",
       "    </tr>\n",
       "    <tr>\n",
       "      <th>75%</th>\n",
       "      <td>248133.000000</td>\n",
       "      <td>2015.00000</td>\n",
       "      <td>73.000000</td>\n",
       "      <td>0.764000</td>\n",
       "      <td>0.839000</td>\n",
       "      <td>8.000000</td>\n",
       "      <td>-4.167750</td>\n",
       "      <td>1.000000</td>\n",
       "      <td>0.129000</td>\n",
       "      <td>0.176250</td>\n",
       "      <td>0.000068</td>\n",
       "      <td>0.241000</td>\n",
       "      <td>0.730000</td>\n",
       "      <td>134.265500</td>\n",
       "    </tr>\n",
       "    <tr>\n",
       "      <th>max</th>\n",
       "      <td>484146.000000</td>\n",
       "      <td>2020.00000</td>\n",
       "      <td>89.000000</td>\n",
       "      <td>0.975000</td>\n",
       "      <td>0.999000</td>\n",
       "      <td>11.000000</td>\n",
       "      <td>-0.276000</td>\n",
       "      <td>1.000000</td>\n",
       "      <td>0.576000</td>\n",
       "      <td>0.976000</td>\n",
       "      <td>0.985000</td>\n",
       "      <td>0.853000</td>\n",
       "      <td>0.973000</td>\n",
       "      <td>210.851000</td>\n",
       "    </tr>\n",
       "  </tbody>\n",
       "</table>\n",
       "</div>"
      ],
      "text/plain": [
       "         duration_ms        year   popularity  danceability       energy  \\\n",
       "count    2000.000000  2000.00000  2000.000000   2000.000000  2000.000000   \n",
       "mean   228748.124500  2009.49400    59.872500      0.667438     0.720366   \n",
       "std     39136.569008     5.85996    21.335577      0.140416     0.152745   \n",
       "min    113000.000000  1998.00000     0.000000      0.129000     0.054900   \n",
       "25%    203580.000000  2004.00000    56.000000      0.581000     0.622000   \n",
       "50%    223279.500000  2010.00000    65.500000      0.676000     0.736000   \n",
       "75%    248133.000000  2015.00000    73.000000      0.764000     0.839000   \n",
       "max    484146.000000  2020.00000    89.000000      0.975000     0.999000   \n",
       "\n",
       "               key     loudness         mode  speechiness  acousticness  \\\n",
       "count  2000.000000  2000.000000  2000.000000  2000.000000   2000.000000   \n",
       "mean      5.378000    -5.512434     0.553500     0.103568      0.128955   \n",
       "std       3.615059     1.933482     0.497254     0.096159      0.173346   \n",
       "min       0.000000   -20.514000     0.000000     0.023200      0.000019   \n",
       "25%       2.000000    -6.490250     0.000000     0.039600      0.014000   \n",
       "50%       6.000000    -5.285000     1.000000     0.059850      0.055700   \n",
       "75%       8.000000    -4.167750     1.000000     0.129000      0.176250   \n",
       "max      11.000000    -0.276000     1.000000     0.576000      0.976000   \n",
       "\n",
       "       instrumentalness     liveness      valence        tempo  \n",
       "count       2000.000000  2000.000000  2000.000000  2000.000000  \n",
       "mean           0.015226     0.181216     0.551690   120.122558  \n",
       "std            0.087771     0.140669     0.220864    26.967112  \n",
       "min            0.000000     0.021500     0.038100    60.019000  \n",
       "25%            0.000000     0.088100     0.386750    98.985750  \n",
       "50%            0.000000     0.124000     0.557500   120.021500  \n",
       "75%            0.000068     0.241000     0.730000   134.265500  \n",
       "max            0.985000     0.853000     0.973000   210.851000  "
      ]
     },
     "execution_count": 12,
     "metadata": {},
     "output_type": "execute_result"
    }
   ],
   "source": [
    "songs_data.describe()"
   ]
  },
  {
   "cell_type": "markdown",
   "metadata": {},
   "source": [
    "Note: As you can see, not all variables are represented in this description, such as the \"artist\" column. This happens because those variables are cathegorical, and are therefore uncompatible with statistical distributions. You'll learn how to deal with those later."
   ]
  },
  {
   "cell_type": "markdown",
   "metadata": {},
   "source": [
    "You can also study a single variable individually."
   ]
  },
  {
   "cell_type": "code",
   "execution_count": null,
   "metadata": {},
   "outputs": [],
   "source": [
    "songs_data.year.describe()"
   ]
  },
  {
   "cell_type": "markdown",
   "metadata": {},
   "source": [
    "Now, we challenge you to try the following methods, which are appliable in a similar way to the previous example."
   ]
  },
  {
   "cell_type": "markdown",
   "metadata": {},
   "source": [
    "Exercise 3.1. To see a list of unique values, we can use the unique() method. Check all the different artists represented in the dataset, applying this method."
   ]
  },
  {
   "cell_type": "code",
   "execution_count": null,
   "metadata": {},
   "outputs": [],
   "source": [
    "unique_artists = #insert code here\n",
    "\n",
    "unique_artists"
   ]
  },
  {
   "cell_type": "markdown",
   "metadata": {},
   "source": [
    "Exercise 3.2. Sometimes, it might be useful to check how many times each value appears in a column. Check how many times is each artis represented. (To do this, you'll need the value_counts() method)"
   ]
  },
  {
   "cell_type": "code",
   "execution_count": null,
   "metadata": {},
   "outputs": [],
   "source": [
    "artists_representivity = #insert code here\n",
    "\n",
    "artists_representivity"
   ]
  },
  {
   "cell_type": "markdown",
   "metadata": {},
   "source": [
    "Note: This method is especially useful to search for data imbalance, which happens when the distribution of a certain variable is biased towards a certain value. In machine learning tasks, it is fundamental to test this trait in the target variable."
   ]
  },
  {
   "cell_type": "markdown",
   "metadata": {},
   "source": [
    "#### Exercise 4 - Indexing and Sorting"
   ]
  },
  {
   "cell_type": "markdown",
   "metadata": {},
   "source": [
    "Indexation is also a relevant topic. songs_data is ordered, but that might not always be the case. To guarantee your dataset is ordered, you can use the reset_index() method."
   ]
  },
  {
   "cell_type": "code",
   "execution_count": null,
   "metadata": {},
   "outputs": [],
   "source": [
    "songs_data.reset_index()"
   ]
  },
  {
   "cell_type": "markdown",
   "metadata": {},
   "source": [
    "As you can see, the method preserves the initial indexes as a new column, to get rid of this useless column, you should set \"drop\" as True."
   ]
  },
  {
   "cell_type": "code",
   "execution_count": 22,
   "metadata": {},
   "outputs": [],
   "source": [
    "songs_data.reset_index(drop=True)"
   ]
  },
  {
   "cell_type": "markdown",
   "metadata": {},
   "source": [
    "In some cases, it might be useful to order the data according to a certain variable. Check the next example, where we ordered songs according to their associated energy."
   ]
  },
  {
   "cell_type": "code",
   "execution_count": 24,
   "metadata": {},
   "outputs": [
    {
     "data": {
      "text/html": [
       "<div>\n",
       "<style scoped>\n",
       "    .dataframe tbody tr th:only-of-type {\n",
       "        vertical-align: middle;\n",
       "    }\n",
       "\n",
       "    .dataframe tbody tr th {\n",
       "        vertical-align: top;\n",
       "    }\n",
       "\n",
       "    .dataframe thead th {\n",
       "        text-align: right;\n",
       "    }\n",
       "</style>\n",
       "<table border=\"1\" class=\"dataframe\">\n",
       "  <thead>\n",
       "    <tr style=\"text-align: right;\">\n",
       "      <th></th>\n",
       "      <th>artist</th>\n",
       "      <th>song</th>\n",
       "      <th>duration_ms</th>\n",
       "      <th>explicit</th>\n",
       "      <th>year</th>\n",
       "      <th>popularity</th>\n",
       "      <th>danceability</th>\n",
       "      <th>energy</th>\n",
       "      <th>key</th>\n",
       "      <th>loudness</th>\n",
       "      <th>mode</th>\n",
       "      <th>speechiness</th>\n",
       "      <th>acousticness</th>\n",
       "      <th>instrumentalness</th>\n",
       "      <th>liveness</th>\n",
       "      <th>valence</th>\n",
       "      <th>tempo</th>\n",
       "      <th>genre</th>\n",
       "    </tr>\n",
       "  </thead>\n",
       "  <tbody>\n",
       "    <tr>\n",
       "      <th>1492</th>\n",
       "      <td>Ed Sheeran</td>\n",
       "      <td>I See Fire - From \"The Hobbit - The Desolation...</td>\n",
       "      <td>300840</td>\n",
       "      <td>False</td>\n",
       "      <td>2013</td>\n",
       "      <td>71</td>\n",
       "      <td>0.581</td>\n",
       "      <td>0.0549</td>\n",
       "      <td>10</td>\n",
       "      <td>-20.514</td>\n",
       "      <td>0</td>\n",
       "      <td>0.0397</td>\n",
       "      <td>0.559000</td>\n",
       "      <td>0.000000</td>\n",
       "      <td>0.0718</td>\n",
       "      <td>0.234</td>\n",
       "      <td>152.037</td>\n",
       "      <td>pop</td>\n",
       "    </tr>\n",
       "    <tr>\n",
       "      <th>496</th>\n",
       "      <td>Gary Jules</td>\n",
       "      <td>Mad World (Feat. Michael Andrews)</td>\n",
       "      <td>189506</td>\n",
       "      <td>False</td>\n",
       "      <td>2001</td>\n",
       "      <td>65</td>\n",
       "      <td>0.345</td>\n",
       "      <td>0.0581</td>\n",
       "      <td>3</td>\n",
       "      <td>-17.217</td>\n",
       "      <td>1</td>\n",
       "      <td>0.0374</td>\n",
       "      <td>0.976000</td>\n",
       "      <td>0.000366</td>\n",
       "      <td>0.1030</td>\n",
       "      <td>0.304</td>\n",
       "      <td>174.117</td>\n",
       "      <td>pop</td>\n",
       "    </tr>\n",
       "    <tr>\n",
       "      <th>1198</th>\n",
       "      <td>Charlene Soraia</td>\n",
       "      <td>Wherever You Will Go</td>\n",
       "      <td>197577</td>\n",
       "      <td>False</td>\n",
       "      <td>2011</td>\n",
       "      <td>60</td>\n",
       "      <td>0.597</td>\n",
       "      <td>0.1150</td>\n",
       "      <td>9</td>\n",
       "      <td>-9.217</td>\n",
       "      <td>1</td>\n",
       "      <td>0.0334</td>\n",
       "      <td>0.820000</td>\n",
       "      <td>0.000215</td>\n",
       "      <td>0.1110</td>\n",
       "      <td>0.128</td>\n",
       "      <td>111.202</td>\n",
       "      <td>pop</td>\n",
       "    </tr>\n",
       "    <tr>\n",
       "      <th>682</th>\n",
       "      <td>Westlife</td>\n",
       "      <td>The Rose</td>\n",
       "      <td>219106</td>\n",
       "      <td>False</td>\n",
       "      <td>2006</td>\n",
       "      <td>0</td>\n",
       "      <td>0.272</td>\n",
       "      <td>0.2030</td>\n",
       "      <td>9</td>\n",
       "      <td>-9.706</td>\n",
       "      <td>1</td>\n",
       "      <td>0.0294</td>\n",
       "      <td>0.784000</td>\n",
       "      <td>0.000000</td>\n",
       "      <td>0.0805</td>\n",
       "      <td>0.172</td>\n",
       "      <td>109.581</td>\n",
       "      <td>pop</td>\n",
       "    </tr>\n",
       "    <tr>\n",
       "      <th>486</th>\n",
       "      <td>Katie Melua</td>\n",
       "      <td>The Closest Thing to Crazy</td>\n",
       "      <td>252466</td>\n",
       "      <td>False</td>\n",
       "      <td>2003</td>\n",
       "      <td>55</td>\n",
       "      <td>0.562</td>\n",
       "      <td>0.2190</td>\n",
       "      <td>4</td>\n",
       "      <td>-13.200</td>\n",
       "      <td>1</td>\n",
       "      <td>0.0312</td>\n",
       "      <td>0.856000</td>\n",
       "      <td>0.000296</td>\n",
       "      <td>0.0979</td>\n",
       "      <td>0.106</td>\n",
       "      <td>127.831</td>\n",
       "      <td>pop, easy listening, jazz</td>\n",
       "    </tr>\n",
       "    <tr>\n",
       "      <th>...</th>\n",
       "      <td>...</td>\n",
       "      <td>...</td>\n",
       "      <td>...</td>\n",
       "      <td>...</td>\n",
       "      <td>...</td>\n",
       "      <td>...</td>\n",
       "      <td>...</td>\n",
       "      <td>...</td>\n",
       "      <td>...</td>\n",
       "      <td>...</td>\n",
       "      <td>...</td>\n",
       "      <td>...</td>\n",
       "      <td>...</td>\n",
       "      <td>...</td>\n",
       "      <td>...</td>\n",
       "      <td>...</td>\n",
       "      <td>...</td>\n",
       "      <td>...</td>\n",
       "    </tr>\n",
       "    <tr>\n",
       "      <th>74</th>\n",
       "      <td>Madison Avenue</td>\n",
       "      <td>Don't Call Me Baby</td>\n",
       "      <td>228140</td>\n",
       "      <td>False</td>\n",
       "      <td>1999</td>\n",
       "      <td>56</td>\n",
       "      <td>0.808</td>\n",
       "      <td>0.9820</td>\n",
       "      <td>3</td>\n",
       "      <td>-6.588</td>\n",
       "      <td>0</td>\n",
       "      <td>0.0311</td>\n",
       "      <td>0.058500</td>\n",
       "      <td>0.006890</td>\n",
       "      <td>0.3500</td>\n",
       "      <td>0.961</td>\n",
       "      <td>124.999</td>\n",
       "      <td>Dance/Electronic</td>\n",
       "    </tr>\n",
       "    <tr>\n",
       "      <th>836</th>\n",
       "      <td>Basshunter</td>\n",
       "      <td>All I Ever Wanted - Radio Edit</td>\n",
       "      <td>176453</td>\n",
       "      <td>False</td>\n",
       "      <td>2008</td>\n",
       "      <td>65</td>\n",
       "      <td>0.645</td>\n",
       "      <td>0.9840</td>\n",
       "      <td>4</td>\n",
       "      <td>-7.051</td>\n",
       "      <td>1</td>\n",
       "      <td>0.0508</td>\n",
       "      <td>0.164000</td>\n",
       "      <td>0.007010</td>\n",
       "      <td>0.1640</td>\n",
       "      <td>0.553</td>\n",
       "      <td>144.954</td>\n",
       "      <td>pop</td>\n",
       "    </tr>\n",
       "    <tr>\n",
       "      <th>1309</th>\n",
       "      <td>Bingo Players</td>\n",
       "      <td>Get Up (Rattle) - Vocal Edit</td>\n",
       "      <td>166933</td>\n",
       "      <td>False</td>\n",
       "      <td>2013</td>\n",
       "      <td>1</td>\n",
       "      <td>0.801</td>\n",
       "      <td>0.9850</td>\n",
       "      <td>7</td>\n",
       "      <td>-2.690</td>\n",
       "      <td>1</td>\n",
       "      <td>0.0645</td>\n",
       "      <td>0.020500</td>\n",
       "      <td>0.000007</td>\n",
       "      <td>0.2960</td>\n",
       "      <td>0.722</td>\n",
       "      <td>127.990</td>\n",
       "      <td>pop, Dance/Electronic</td>\n",
       "    </tr>\n",
       "    <tr>\n",
       "      <th>472</th>\n",
       "      <td>Green Day</td>\n",
       "      <td>American Idiot</td>\n",
       "      <td>176346</td>\n",
       "      <td>True</td>\n",
       "      <td>2004</td>\n",
       "      <td>77</td>\n",
       "      <td>0.380</td>\n",
       "      <td>0.9880</td>\n",
       "      <td>1</td>\n",
       "      <td>-2.042</td>\n",
       "      <td>1</td>\n",
       "      <td>0.0639</td>\n",
       "      <td>0.000026</td>\n",
       "      <td>0.000079</td>\n",
       "      <td>0.3680</td>\n",
       "      <td>0.769</td>\n",
       "      <td>186.113</td>\n",
       "      <td>rock</td>\n",
       "    </tr>\n",
       "    <tr>\n",
       "      <th>477</th>\n",
       "      <td>Special D.</td>\n",
       "      <td>Come With Me - Radio Edit</td>\n",
       "      <td>185133</td>\n",
       "      <td>False</td>\n",
       "      <td>2004</td>\n",
       "      <td>61</td>\n",
       "      <td>0.739</td>\n",
       "      <td>0.9990</td>\n",
       "      <td>7</td>\n",
       "      <td>-5.077</td>\n",
       "      <td>1</td>\n",
       "      <td>0.0803</td>\n",
       "      <td>0.130000</td>\n",
       "      <td>0.002240</td>\n",
       "      <td>0.2800</td>\n",
       "      <td>0.501</td>\n",
       "      <td>139.982</td>\n",
       "      <td>pop</td>\n",
       "    </tr>\n",
       "  </tbody>\n",
       "</table>\n",
       "<p>2000 rows × 18 columns</p>\n",
       "</div>"
      ],
      "text/plain": [
       "               artist                                               song  \\\n",
       "1492       Ed Sheeran  I See Fire - From \"The Hobbit - The Desolation...   \n",
       "496        Gary Jules                  Mad World (Feat. Michael Andrews)   \n",
       "1198  Charlene Soraia                               Wherever You Will Go   \n",
       "682          Westlife                                           The Rose   \n",
       "486       Katie Melua                         The Closest Thing to Crazy   \n",
       "...               ...                                                ...   \n",
       "74     Madison Avenue                                 Don't Call Me Baby   \n",
       "836        Basshunter                     All I Ever Wanted - Radio Edit   \n",
       "1309    Bingo Players                       Get Up (Rattle) - Vocal Edit   \n",
       "472         Green Day                                     American Idiot   \n",
       "477        Special D.                          Come With Me - Radio Edit   \n",
       "\n",
       "      duration_ms  explicit  year  popularity  danceability  energy  key  \\\n",
       "1492       300840     False  2013          71         0.581  0.0549   10   \n",
       "496        189506     False  2001          65         0.345  0.0581    3   \n",
       "1198       197577     False  2011          60         0.597  0.1150    9   \n",
       "682        219106     False  2006           0         0.272  0.2030    9   \n",
       "486        252466     False  2003          55         0.562  0.2190    4   \n",
       "...           ...       ...   ...         ...           ...     ...  ...   \n",
       "74         228140     False  1999          56         0.808  0.9820    3   \n",
       "836        176453     False  2008          65         0.645  0.9840    4   \n",
       "1309       166933     False  2013           1         0.801  0.9850    7   \n",
       "472        176346      True  2004          77         0.380  0.9880    1   \n",
       "477        185133     False  2004          61         0.739  0.9990    7   \n",
       "\n",
       "      loudness  mode  speechiness  acousticness  instrumentalness  liveness  \\\n",
       "1492   -20.514     0       0.0397      0.559000          0.000000    0.0718   \n",
       "496    -17.217     1       0.0374      0.976000          0.000366    0.1030   \n",
       "1198    -9.217     1       0.0334      0.820000          0.000215    0.1110   \n",
       "682     -9.706     1       0.0294      0.784000          0.000000    0.0805   \n",
       "486    -13.200     1       0.0312      0.856000          0.000296    0.0979   \n",
       "...        ...   ...          ...           ...               ...       ...   \n",
       "74      -6.588     0       0.0311      0.058500          0.006890    0.3500   \n",
       "836     -7.051     1       0.0508      0.164000          0.007010    0.1640   \n",
       "1309    -2.690     1       0.0645      0.020500          0.000007    0.2960   \n",
       "472     -2.042     1       0.0639      0.000026          0.000079    0.3680   \n",
       "477     -5.077     1       0.0803      0.130000          0.002240    0.2800   \n",
       "\n",
       "      valence    tempo                      genre  \n",
       "1492    0.234  152.037                        pop  \n",
       "496     0.304  174.117                        pop  \n",
       "1198    0.128  111.202                        pop  \n",
       "682     0.172  109.581                        pop  \n",
       "486     0.106  127.831  pop, easy listening, jazz  \n",
       "...       ...      ...                        ...  \n",
       "74      0.961  124.999           Dance/Electronic  \n",
       "836     0.553  144.954                        pop  \n",
       "1309    0.722  127.990      pop, Dance/Electronic  \n",
       "472     0.769  186.113                       rock  \n",
       "477     0.501  139.982                        pop  \n",
       "\n",
       "[2000 rows x 18 columns]"
      ]
     },
     "execution_count": 24,
     "metadata": {},
     "output_type": "execute_result"
    }
   ],
   "source": [
    "songs_data.sort_values(by='energy', ascending=True)"
   ]
  },
  {
   "cell_type": "markdown",
   "metadata": {},
   "source": [
    "Try to order the entries in songs_data descending according to the \"popularity\" values."
   ]
  },
  {
   "cell_type": "code",
   "execution_count": 26,
   "metadata": {},
   "outputs": [],
   "source": [
    "popularity_ordered_data = #insert code here\n",
    "\n",
    "popularity_ordered_data"
   ]
  },
  {
   "cell_type": "markdown",
   "metadata": {},
   "source": [
    "You can also sort by index, using the following method."
   ]
  },
  {
   "cell_type": "code",
   "execution_count": 27,
   "metadata": {},
   "outputs": [
    {
     "data": {
      "text/html": [
       "<div>\n",
       "<style scoped>\n",
       "    .dataframe tbody tr th:only-of-type {\n",
       "        vertical-align: middle;\n",
       "    }\n",
       "\n",
       "    .dataframe tbody tr th {\n",
       "        vertical-align: top;\n",
       "    }\n",
       "\n",
       "    .dataframe thead th {\n",
       "        text-align: right;\n",
       "    }\n",
       "</style>\n",
       "<table border=\"1\" class=\"dataframe\">\n",
       "  <thead>\n",
       "    <tr style=\"text-align: right;\">\n",
       "      <th></th>\n",
       "      <th>artist</th>\n",
       "      <th>song</th>\n",
       "      <th>duration_ms</th>\n",
       "      <th>explicit</th>\n",
       "      <th>year</th>\n",
       "      <th>popularity</th>\n",
       "      <th>danceability</th>\n",
       "      <th>energy</th>\n",
       "      <th>key</th>\n",
       "      <th>loudness</th>\n",
       "      <th>mode</th>\n",
       "      <th>speechiness</th>\n",
       "      <th>acousticness</th>\n",
       "      <th>instrumentalness</th>\n",
       "      <th>liveness</th>\n",
       "      <th>valence</th>\n",
       "      <th>tempo</th>\n",
       "      <th>genre</th>\n",
       "    </tr>\n",
       "  </thead>\n",
       "  <tbody>\n",
       "    <tr>\n",
       "      <th>0</th>\n",
       "      <td>Britney Spears</td>\n",
       "      <td>Oops!...I Did It Again</td>\n",
       "      <td>211160</td>\n",
       "      <td>False</td>\n",
       "      <td>2000</td>\n",
       "      <td>77</td>\n",
       "      <td>0.751</td>\n",
       "      <td>0.834</td>\n",
       "      <td>1</td>\n",
       "      <td>-5.444</td>\n",
       "      <td>0</td>\n",
       "      <td>0.0437</td>\n",
       "      <td>0.3000</td>\n",
       "      <td>0.000018</td>\n",
       "      <td>0.3550</td>\n",
       "      <td>0.894</td>\n",
       "      <td>95.053</td>\n",
       "      <td>pop</td>\n",
       "    </tr>\n",
       "    <tr>\n",
       "      <th>1</th>\n",
       "      <td>blink-182</td>\n",
       "      <td>All The Small Things</td>\n",
       "      <td>167066</td>\n",
       "      <td>False</td>\n",
       "      <td>1999</td>\n",
       "      <td>79</td>\n",
       "      <td>0.434</td>\n",
       "      <td>0.897</td>\n",
       "      <td>0</td>\n",
       "      <td>-4.918</td>\n",
       "      <td>1</td>\n",
       "      <td>0.0488</td>\n",
       "      <td>0.0103</td>\n",
       "      <td>0.000000</td>\n",
       "      <td>0.6120</td>\n",
       "      <td>0.684</td>\n",
       "      <td>148.726</td>\n",
       "      <td>rock, pop</td>\n",
       "    </tr>\n",
       "    <tr>\n",
       "      <th>2</th>\n",
       "      <td>Faith Hill</td>\n",
       "      <td>Breathe</td>\n",
       "      <td>250546</td>\n",
       "      <td>False</td>\n",
       "      <td>1999</td>\n",
       "      <td>66</td>\n",
       "      <td>0.529</td>\n",
       "      <td>0.496</td>\n",
       "      <td>7</td>\n",
       "      <td>-9.007</td>\n",
       "      <td>1</td>\n",
       "      <td>0.0290</td>\n",
       "      <td>0.1730</td>\n",
       "      <td>0.000000</td>\n",
       "      <td>0.2510</td>\n",
       "      <td>0.278</td>\n",
       "      <td>136.859</td>\n",
       "      <td>pop, country</td>\n",
       "    </tr>\n",
       "    <tr>\n",
       "      <th>3</th>\n",
       "      <td>Bon Jovi</td>\n",
       "      <td>It's My Life</td>\n",
       "      <td>224493</td>\n",
       "      <td>False</td>\n",
       "      <td>2000</td>\n",
       "      <td>78</td>\n",
       "      <td>0.551</td>\n",
       "      <td>0.913</td>\n",
       "      <td>0</td>\n",
       "      <td>-4.063</td>\n",
       "      <td>0</td>\n",
       "      <td>0.0466</td>\n",
       "      <td>0.0263</td>\n",
       "      <td>0.000013</td>\n",
       "      <td>0.3470</td>\n",
       "      <td>0.544</td>\n",
       "      <td>119.992</td>\n",
       "      <td>rock, metal</td>\n",
       "    </tr>\n",
       "    <tr>\n",
       "      <th>4</th>\n",
       "      <td>*NSYNC</td>\n",
       "      <td>Bye Bye Bye</td>\n",
       "      <td>200560</td>\n",
       "      <td>False</td>\n",
       "      <td>2000</td>\n",
       "      <td>65</td>\n",
       "      <td>0.614</td>\n",
       "      <td>0.928</td>\n",
       "      <td>8</td>\n",
       "      <td>-4.806</td>\n",
       "      <td>0</td>\n",
       "      <td>0.0516</td>\n",
       "      <td>0.0408</td>\n",
       "      <td>0.001040</td>\n",
       "      <td>0.0845</td>\n",
       "      <td>0.879</td>\n",
       "      <td>172.656</td>\n",
       "      <td>pop</td>\n",
       "    </tr>\n",
       "    <tr>\n",
       "      <th>...</th>\n",
       "      <td>...</td>\n",
       "      <td>...</td>\n",
       "      <td>...</td>\n",
       "      <td>...</td>\n",
       "      <td>...</td>\n",
       "      <td>...</td>\n",
       "      <td>...</td>\n",
       "      <td>...</td>\n",
       "      <td>...</td>\n",
       "      <td>...</td>\n",
       "      <td>...</td>\n",
       "      <td>...</td>\n",
       "      <td>...</td>\n",
       "      <td>...</td>\n",
       "      <td>...</td>\n",
       "      <td>...</td>\n",
       "      <td>...</td>\n",
       "      <td>...</td>\n",
       "    </tr>\n",
       "    <tr>\n",
       "      <th>1995</th>\n",
       "      <td>Jonas Brothers</td>\n",
       "      <td>Sucker</td>\n",
       "      <td>181026</td>\n",
       "      <td>False</td>\n",
       "      <td>2019</td>\n",
       "      <td>79</td>\n",
       "      <td>0.842</td>\n",
       "      <td>0.734</td>\n",
       "      <td>1</td>\n",
       "      <td>-5.065</td>\n",
       "      <td>0</td>\n",
       "      <td>0.0588</td>\n",
       "      <td>0.0427</td>\n",
       "      <td>0.000000</td>\n",
       "      <td>0.1060</td>\n",
       "      <td>0.952</td>\n",
       "      <td>137.958</td>\n",
       "      <td>pop</td>\n",
       "    </tr>\n",
       "    <tr>\n",
       "      <th>1996</th>\n",
       "      <td>Taylor Swift</td>\n",
       "      <td>Cruel Summer</td>\n",
       "      <td>178426</td>\n",
       "      <td>False</td>\n",
       "      <td>2019</td>\n",
       "      <td>78</td>\n",
       "      <td>0.552</td>\n",
       "      <td>0.702</td>\n",
       "      <td>9</td>\n",
       "      <td>-5.707</td>\n",
       "      <td>1</td>\n",
       "      <td>0.1570</td>\n",
       "      <td>0.1170</td>\n",
       "      <td>0.000021</td>\n",
       "      <td>0.1050</td>\n",
       "      <td>0.564</td>\n",
       "      <td>169.994</td>\n",
       "      <td>pop</td>\n",
       "    </tr>\n",
       "    <tr>\n",
       "      <th>1997</th>\n",
       "      <td>Blanco Brown</td>\n",
       "      <td>The Git Up</td>\n",
       "      <td>200593</td>\n",
       "      <td>False</td>\n",
       "      <td>2019</td>\n",
       "      <td>69</td>\n",
       "      <td>0.847</td>\n",
       "      <td>0.678</td>\n",
       "      <td>9</td>\n",
       "      <td>-8.635</td>\n",
       "      <td>1</td>\n",
       "      <td>0.1090</td>\n",
       "      <td>0.0669</td>\n",
       "      <td>0.000000</td>\n",
       "      <td>0.2740</td>\n",
       "      <td>0.811</td>\n",
       "      <td>97.984</td>\n",
       "      <td>hip hop, country</td>\n",
       "    </tr>\n",
       "    <tr>\n",
       "      <th>1998</th>\n",
       "      <td>Sam Smith</td>\n",
       "      <td>Dancing With A Stranger (with Normani)</td>\n",
       "      <td>171029</td>\n",
       "      <td>False</td>\n",
       "      <td>2019</td>\n",
       "      <td>75</td>\n",
       "      <td>0.741</td>\n",
       "      <td>0.520</td>\n",
       "      <td>8</td>\n",
       "      <td>-7.513</td>\n",
       "      <td>1</td>\n",
       "      <td>0.0656</td>\n",
       "      <td>0.4500</td>\n",
       "      <td>0.000002</td>\n",
       "      <td>0.2220</td>\n",
       "      <td>0.347</td>\n",
       "      <td>102.998</td>\n",
       "      <td>pop</td>\n",
       "    </tr>\n",
       "    <tr>\n",
       "      <th>1999</th>\n",
       "      <td>Post Malone</td>\n",
       "      <td>Circles</td>\n",
       "      <td>215280</td>\n",
       "      <td>False</td>\n",
       "      <td>2019</td>\n",
       "      <td>85</td>\n",
       "      <td>0.695</td>\n",
       "      <td>0.762</td>\n",
       "      <td>0</td>\n",
       "      <td>-3.497</td>\n",
       "      <td>1</td>\n",
       "      <td>0.0395</td>\n",
       "      <td>0.1920</td>\n",
       "      <td>0.002440</td>\n",
       "      <td>0.0863</td>\n",
       "      <td>0.553</td>\n",
       "      <td>120.042</td>\n",
       "      <td>hip hop</td>\n",
       "    </tr>\n",
       "  </tbody>\n",
       "</table>\n",
       "<p>2000 rows × 18 columns</p>\n",
       "</div>"
      ],
      "text/plain": [
       "              artist                                    song  duration_ms  \\\n",
       "0     Britney Spears                  Oops!...I Did It Again       211160   \n",
       "1          blink-182                    All The Small Things       167066   \n",
       "2         Faith Hill                                 Breathe       250546   \n",
       "3           Bon Jovi                            It's My Life       224493   \n",
       "4             *NSYNC                             Bye Bye Bye       200560   \n",
       "...              ...                                     ...          ...   \n",
       "1995  Jonas Brothers                                  Sucker       181026   \n",
       "1996    Taylor Swift                            Cruel Summer       178426   \n",
       "1997    Blanco Brown                              The Git Up       200593   \n",
       "1998       Sam Smith  Dancing With A Stranger (with Normani)       171029   \n",
       "1999     Post Malone                                 Circles       215280   \n",
       "\n",
       "      explicit  year  popularity  danceability  energy  key  loudness  mode  \\\n",
       "0        False  2000          77         0.751   0.834    1    -5.444     0   \n",
       "1        False  1999          79         0.434   0.897    0    -4.918     1   \n",
       "2        False  1999          66         0.529   0.496    7    -9.007     1   \n",
       "3        False  2000          78         0.551   0.913    0    -4.063     0   \n",
       "4        False  2000          65         0.614   0.928    8    -4.806     0   \n",
       "...        ...   ...         ...           ...     ...  ...       ...   ...   \n",
       "1995     False  2019          79         0.842   0.734    1    -5.065     0   \n",
       "1996     False  2019          78         0.552   0.702    9    -5.707     1   \n",
       "1997     False  2019          69         0.847   0.678    9    -8.635     1   \n",
       "1998     False  2019          75         0.741   0.520    8    -7.513     1   \n",
       "1999     False  2019          85         0.695   0.762    0    -3.497     1   \n",
       "\n",
       "      speechiness  acousticness  instrumentalness  liveness  valence    tempo  \\\n",
       "0          0.0437        0.3000          0.000018    0.3550    0.894   95.053   \n",
       "1          0.0488        0.0103          0.000000    0.6120    0.684  148.726   \n",
       "2          0.0290        0.1730          0.000000    0.2510    0.278  136.859   \n",
       "3          0.0466        0.0263          0.000013    0.3470    0.544  119.992   \n",
       "4          0.0516        0.0408          0.001040    0.0845    0.879  172.656   \n",
       "...           ...           ...               ...       ...      ...      ...   \n",
       "1995       0.0588        0.0427          0.000000    0.1060    0.952  137.958   \n",
       "1996       0.1570        0.1170          0.000021    0.1050    0.564  169.994   \n",
       "1997       0.1090        0.0669          0.000000    0.2740    0.811   97.984   \n",
       "1998       0.0656        0.4500          0.000002    0.2220    0.347  102.998   \n",
       "1999       0.0395        0.1920          0.002440    0.0863    0.553  120.042   \n",
       "\n",
       "                 genre  \n",
       "0                  pop  \n",
       "1            rock, pop  \n",
       "2         pop, country  \n",
       "3          rock, metal  \n",
       "4                  pop  \n",
       "...                ...  \n",
       "1995               pop  \n",
       "1996               pop  \n",
       "1997  hip hop, country  \n",
       "1998               pop  \n",
       "1999           hip hop  \n",
       "\n",
       "[2000 rows x 18 columns]"
      ]
     },
     "execution_count": 27,
     "metadata": {},
     "output_type": "execute_result"
    }
   ],
   "source": [
    "songs_data.sort_index()"
   ]
  },
  {
   "cell_type": "markdown",
   "metadata": {},
   "source": [
    "Also, you can sort more than one column at a time."
   ]
  },
  {
   "cell_type": "code",
   "execution_count": 28,
   "metadata": {},
   "outputs": [
    {
     "data": {
      "text/html": [
       "<div>\n",
       "<style scoped>\n",
       "    .dataframe tbody tr th:only-of-type {\n",
       "        vertical-align: middle;\n",
       "    }\n",
       "\n",
       "    .dataframe tbody tr th {\n",
       "        vertical-align: top;\n",
       "    }\n",
       "\n",
       "    .dataframe thead th {\n",
       "        text-align: right;\n",
       "    }\n",
       "</style>\n",
       "<table border=\"1\" class=\"dataframe\">\n",
       "  <thead>\n",
       "    <tr style=\"text-align: right;\">\n",
       "      <th></th>\n",
       "      <th>artist</th>\n",
       "      <th>song</th>\n",
       "      <th>duration_ms</th>\n",
       "      <th>explicit</th>\n",
       "      <th>year</th>\n",
       "      <th>popularity</th>\n",
       "      <th>danceability</th>\n",
       "      <th>energy</th>\n",
       "      <th>key</th>\n",
       "      <th>loudness</th>\n",
       "      <th>mode</th>\n",
       "      <th>speechiness</th>\n",
       "      <th>acousticness</th>\n",
       "      <th>instrumentalness</th>\n",
       "      <th>liveness</th>\n",
       "      <th>valence</th>\n",
       "      <th>tempo</th>\n",
       "      <th>genre</th>\n",
       "    </tr>\n",
       "  </thead>\n",
       "  <tbody>\n",
       "    <tr>\n",
       "      <th>1322</th>\n",
       "      <td>The Neighbourhood</td>\n",
       "      <td>Sweater Weather</td>\n",
       "      <td>240400</td>\n",
       "      <td>False</td>\n",
       "      <td>2013</td>\n",
       "      <td>89</td>\n",
       "      <td>0.612</td>\n",
       "      <td>0.807</td>\n",
       "      <td>10</td>\n",
       "      <td>-2.810</td>\n",
       "      <td>1</td>\n",
       "      <td>0.0336</td>\n",
       "      <td>0.04950</td>\n",
       "      <td>0.017700</td>\n",
       "      <td>0.1010</td>\n",
       "      <td>0.398</td>\n",
       "      <td>124.053</td>\n",
       "      <td>rock, pop</td>\n",
       "    </tr>\n",
       "    <tr>\n",
       "      <th>1311</th>\n",
       "      <td>Tom Odell</td>\n",
       "      <td>Another Love</td>\n",
       "      <td>244360</td>\n",
       "      <td>True</td>\n",
       "      <td>2013</td>\n",
       "      <td>88</td>\n",
       "      <td>0.445</td>\n",
       "      <td>0.537</td>\n",
       "      <td>4</td>\n",
       "      <td>-8.532</td>\n",
       "      <td>0</td>\n",
       "      <td>0.0400</td>\n",
       "      <td>0.69500</td>\n",
       "      <td>0.000017</td>\n",
       "      <td>0.0944</td>\n",
       "      <td>0.131</td>\n",
       "      <td>122.769</td>\n",
       "      <td>pop</td>\n",
       "    </tr>\n",
       "    <tr>\n",
       "      <th>201</th>\n",
       "      <td>Eminem</td>\n",
       "      <td>Without Me</td>\n",
       "      <td>290320</td>\n",
       "      <td>True</td>\n",
       "      <td>2002</td>\n",
       "      <td>87</td>\n",
       "      <td>0.908</td>\n",
       "      <td>0.669</td>\n",
       "      <td>7</td>\n",
       "      <td>-2.827</td>\n",
       "      <td>1</td>\n",
       "      <td>0.0738</td>\n",
       "      <td>0.00286</td>\n",
       "      <td>0.000000</td>\n",
       "      <td>0.2370</td>\n",
       "      <td>0.662</td>\n",
       "      <td>112.238</td>\n",
       "      <td>hip hop</td>\n",
       "    </tr>\n",
       "    <tr>\n",
       "      <th>1613</th>\n",
       "      <td>WILLOW</td>\n",
       "      <td>Wait a Minute!</td>\n",
       "      <td>196520</td>\n",
       "      <td>False</td>\n",
       "      <td>2015</td>\n",
       "      <td>86</td>\n",
       "      <td>0.764</td>\n",
       "      <td>0.705</td>\n",
       "      <td>3</td>\n",
       "      <td>-5.279</td>\n",
       "      <td>0</td>\n",
       "      <td>0.0278</td>\n",
       "      <td>0.03710</td>\n",
       "      <td>0.000019</td>\n",
       "      <td>0.0943</td>\n",
       "      <td>0.672</td>\n",
       "      <td>101.003</td>\n",
       "      <td>pop, R&amp;B, Dance/Electronic</td>\n",
       "    </tr>\n",
       "    <tr>\n",
       "      <th>6</th>\n",
       "      <td>Eminem</td>\n",
       "      <td>The Real Slim Shady</td>\n",
       "      <td>284200</td>\n",
       "      <td>True</td>\n",
       "      <td>2000</td>\n",
       "      <td>86</td>\n",
       "      <td>0.949</td>\n",
       "      <td>0.661</td>\n",
       "      <td>5</td>\n",
       "      <td>-4.244</td>\n",
       "      <td>0</td>\n",
       "      <td>0.0572</td>\n",
       "      <td>0.03020</td>\n",
       "      <td>0.000000</td>\n",
       "      <td>0.0454</td>\n",
       "      <td>0.760</td>\n",
       "      <td>104.504</td>\n",
       "      <td>hip hop</td>\n",
       "    </tr>\n",
       "    <tr>\n",
       "      <th>...</th>\n",
       "      <td>...</td>\n",
       "      <td>...</td>\n",
       "      <td>...</td>\n",
       "      <td>...</td>\n",
       "      <td>...</td>\n",
       "      <td>...</td>\n",
       "      <td>...</td>\n",
       "      <td>...</td>\n",
       "      <td>...</td>\n",
       "      <td>...</td>\n",
       "      <td>...</td>\n",
       "      <td>...</td>\n",
       "      <td>...</td>\n",
       "      <td>...</td>\n",
       "      <td>...</td>\n",
       "      <td>...</td>\n",
       "      <td>...</td>\n",
       "      <td>...</td>\n",
       "    </tr>\n",
       "    <tr>\n",
       "      <th>182</th>\n",
       "      <td>Musiq Soulchild</td>\n",
       "      <td>Love</td>\n",
       "      <td>304666</td>\n",
       "      <td>False</td>\n",
       "      <td>2000</td>\n",
       "      <td>0</td>\n",
       "      <td>0.569</td>\n",
       "      <td>0.385</td>\n",
       "      <td>1</td>\n",
       "      <td>-9.919</td>\n",
       "      <td>0</td>\n",
       "      <td>0.0499</td>\n",
       "      <td>0.34200</td>\n",
       "      <td>0.000000</td>\n",
       "      <td>0.0876</td>\n",
       "      <td>0.339</td>\n",
       "      <td>99.738</td>\n",
       "      <td>pop, R&amp;B</td>\n",
       "    </tr>\n",
       "    <tr>\n",
       "      <th>1602</th>\n",
       "      <td>Justin Bieber</td>\n",
       "      <td>Love Yourself</td>\n",
       "      <td>233720</td>\n",
       "      <td>False</td>\n",
       "      <td>2015</td>\n",
       "      <td>0</td>\n",
       "      <td>0.609</td>\n",
       "      <td>0.378</td>\n",
       "      <td>4</td>\n",
       "      <td>-9.828</td>\n",
       "      <td>1</td>\n",
       "      <td>0.4380</td>\n",
       "      <td>0.83500</td>\n",
       "      <td>0.000000</td>\n",
       "      <td>0.2800</td>\n",
       "      <td>0.515</td>\n",
       "      <td>100.418</td>\n",
       "      <td>pop</td>\n",
       "    </tr>\n",
       "    <tr>\n",
       "      <th>685</th>\n",
       "      <td>T-Pain</td>\n",
       "      <td>I'm N Luv (Wit a Stripper) (feat. Mike Jones)</td>\n",
       "      <td>265333</td>\n",
       "      <td>True</td>\n",
       "      <td>2005</td>\n",
       "      <td>0</td>\n",
       "      <td>0.731</td>\n",
       "      <td>0.368</td>\n",
       "      <td>8</td>\n",
       "      <td>-10.380</td>\n",
       "      <td>1</td>\n",
       "      <td>0.0688</td>\n",
       "      <td>0.00544</td>\n",
       "      <td>0.000000</td>\n",
       "      <td>0.1930</td>\n",
       "      <td>0.512</td>\n",
       "      <td>145.171</td>\n",
       "      <td>hip hop, pop, R&amp;B</td>\n",
       "    </tr>\n",
       "    <tr>\n",
       "      <th>584</th>\n",
       "      <td>T-Pain</td>\n",
       "      <td>I'm Sprung</td>\n",
       "      <td>231040</td>\n",
       "      <td>False</td>\n",
       "      <td>2005</td>\n",
       "      <td>0</td>\n",
       "      <td>0.722</td>\n",
       "      <td>0.329</td>\n",
       "      <td>0</td>\n",
       "      <td>-11.617</td>\n",
       "      <td>0</td>\n",
       "      <td>0.1080</td>\n",
       "      <td>0.08800</td>\n",
       "      <td>0.000000</td>\n",
       "      <td>0.0810</td>\n",
       "      <td>0.166</td>\n",
       "      <td>99.991</td>\n",
       "      <td>hip hop, pop, R&amp;B</td>\n",
       "    </tr>\n",
       "    <tr>\n",
       "      <th>682</th>\n",
       "      <td>Westlife</td>\n",
       "      <td>The Rose</td>\n",
       "      <td>219106</td>\n",
       "      <td>False</td>\n",
       "      <td>2006</td>\n",
       "      <td>0</td>\n",
       "      <td>0.272</td>\n",
       "      <td>0.203</td>\n",
       "      <td>9</td>\n",
       "      <td>-9.706</td>\n",
       "      <td>1</td>\n",
       "      <td>0.0294</td>\n",
       "      <td>0.78400</td>\n",
       "      <td>0.000000</td>\n",
       "      <td>0.0805</td>\n",
       "      <td>0.172</td>\n",
       "      <td>109.581</td>\n",
       "      <td>pop</td>\n",
       "    </tr>\n",
       "  </tbody>\n",
       "</table>\n",
       "<p>2000 rows × 18 columns</p>\n",
       "</div>"
      ],
      "text/plain": [
       "                 artist                                           song  \\\n",
       "1322  The Neighbourhood                                Sweater Weather   \n",
       "1311          Tom Odell                                   Another Love   \n",
       "201              Eminem                                     Without Me   \n",
       "1613             WILLOW                                 Wait a Minute!   \n",
       "6                Eminem                            The Real Slim Shady   \n",
       "...                 ...                                            ...   \n",
       "182     Musiq Soulchild                                           Love   \n",
       "1602      Justin Bieber                                  Love Yourself   \n",
       "685              T-Pain  I'm N Luv (Wit a Stripper) (feat. Mike Jones)   \n",
       "584              T-Pain                                     I'm Sprung   \n",
       "682            Westlife                                       The Rose   \n",
       "\n",
       "      duration_ms  explicit  year  popularity  danceability  energy  key  \\\n",
       "1322       240400     False  2013          89         0.612   0.807   10   \n",
       "1311       244360      True  2013          88         0.445   0.537    4   \n",
       "201        290320      True  2002          87         0.908   0.669    7   \n",
       "1613       196520     False  2015          86         0.764   0.705    3   \n",
       "6          284200      True  2000          86         0.949   0.661    5   \n",
       "...           ...       ...   ...         ...           ...     ...  ...   \n",
       "182        304666     False  2000           0         0.569   0.385    1   \n",
       "1602       233720     False  2015           0         0.609   0.378    4   \n",
       "685        265333      True  2005           0         0.731   0.368    8   \n",
       "584        231040     False  2005           0         0.722   0.329    0   \n",
       "682        219106     False  2006           0         0.272   0.203    9   \n",
       "\n",
       "      loudness  mode  speechiness  acousticness  instrumentalness  liveness  \\\n",
       "1322    -2.810     1       0.0336       0.04950          0.017700    0.1010   \n",
       "1311    -8.532     0       0.0400       0.69500          0.000017    0.0944   \n",
       "201     -2.827     1       0.0738       0.00286          0.000000    0.2370   \n",
       "1613    -5.279     0       0.0278       0.03710          0.000019    0.0943   \n",
       "6       -4.244     0       0.0572       0.03020          0.000000    0.0454   \n",
       "...        ...   ...          ...           ...               ...       ...   \n",
       "182     -9.919     0       0.0499       0.34200          0.000000    0.0876   \n",
       "1602    -9.828     1       0.4380       0.83500          0.000000    0.2800   \n",
       "685    -10.380     1       0.0688       0.00544          0.000000    0.1930   \n",
       "584    -11.617     0       0.1080       0.08800          0.000000    0.0810   \n",
       "682     -9.706     1       0.0294       0.78400          0.000000    0.0805   \n",
       "\n",
       "      valence    tempo                       genre  \n",
       "1322    0.398  124.053                   rock, pop  \n",
       "1311    0.131  122.769                         pop  \n",
       "201     0.662  112.238                     hip hop  \n",
       "1613    0.672  101.003  pop, R&B, Dance/Electronic  \n",
       "6       0.760  104.504                     hip hop  \n",
       "...       ...      ...                         ...  \n",
       "182     0.339   99.738                    pop, R&B  \n",
       "1602    0.515  100.418                         pop  \n",
       "685     0.512  145.171           hip hop, pop, R&B  \n",
       "584     0.166   99.991           hip hop, pop, R&B  \n",
       "682     0.172  109.581                         pop  \n",
       "\n",
       "[2000 rows x 18 columns]"
      ]
     },
     "execution_count": 28,
     "metadata": {},
     "output_type": "execute_result"
    }
   ],
   "source": [
    "songs_data.sort_values(by=['popularity', 'energy'], ascending=False)"
   ]
  },
  {
   "cell_type": "markdown",
   "metadata": {},
   "source": [
    "This method uses the second criterion when the first one is not enough to distinguish entries."
   ]
  },
  {
   "cell_type": "markdown",
   "metadata": {},
   "source": [
    "#### Exercise 5 - Missing Values"
   ]
  },
  {
   "cell_type": "markdown",
   "metadata": {},
   "source": [
    "Entries missing values are given the value NaN, short for \"Not a Number\". For technical reasons these NaN values are always of the float64 dtype. Knowing how to deal with missing values is an essential skill for any data scientist. Fortunately, pandas offers some methods to help us do that."
   ]
  },
  {
   "cell_type": "markdown",
   "metadata": {},
   "source": [
    "The data we've been working upon has no missing input occurrences. However, in real data, that happens only in very rare occasions. Run the following cell to obtain a more realistic dataset, by fabricating missing inputs. (This is not something you'll do often, in fact, if you have complete datasets, that's all the better for you! So don't waste your time here, go ahead!)"
   ]
  },
  {
   "cell_type": "code",
   "execution_count": 52,
   "metadata": {},
   "outputs": [
    {
     "name": "stderr",
     "output_type": "stream",
     "text": [
      "/tmp/ipykernel_239/1274605770.py:3: SettingWithCopyWarning: \n",
      "A value is trying to be set on a copy of a slice from a DataFrame\n",
      "\n",
      "See the caveats in the documentation: https://pandas.pydata.org/pandas-docs/stable/user_guide/indexing.html#returning-a-view-versus-a-copy\n",
      "  songs_missing_data['popularity'][songs_missing_data.loc[:, 'popularity'] > 70] = np.nan\n"
     ]
    }
   ],
   "source": [
    "songs_missing_data = songs_data.copy()\n",
    "\n",
    "songs_missing_data['popularity'][songs_missing_data.loc[:, 'popularity'] > 70] = np.nan"
   ]
  },
  {
   "cell_type": "markdown",
   "metadata": {},
   "source": [
    "We'll start by selecting NaN entries in the DataFrame. The method pd.isnull() returns a boolean data representation refflecting wether or not each element corresponds to a missing input."
   ]
  },
  {
   "cell_type": "code",
   "execution_count": null,
   "metadata": {},
   "outputs": [],
   "source": [
    "pd.isnull(songs_missing_data)"
   ]
  },
  {
   "cell_type": "markdown",
   "metadata": {},
   "source": [
    "Applying this to a single column, we can then use this result to select exclusively the entries of the DataFrame with attributed values regarding the variable chosen. Perform this selection process according to the \"popularity\" variable."
   ]
  },
  {
   "cell_type": "code",
   "execution_count": null,
   "metadata": {},
   "outputs": [],
   "source": [
    "select_info = #insert code here\n",
    "\n",
    "selected_songs = songs_data[select_info]\n",
    "\n",
    "selected_songs"
   ]
  },
  {
   "cell_type": "markdown",
   "metadata": {},
   "source": [
    "As you can see, you lost a lot of entries. You need to get rid of all missing values in order to train machine learning models. For this reason, this exclusion process is not very viable, considering you'll lose a lot of information in the process. Instead, data scientists usually apply missing imputation methods. A simple imputation method offered by pandas relies on the substitution of all the missing instances for a specific value."
   ]
  },
  {
   "cell_type": "code",
   "execution_count": 55,
   "metadata": {},
   "outputs": [
    {
     "data": {
      "text/html": [
       "<div>\n",
       "<style scoped>\n",
       "    .dataframe tbody tr th:only-of-type {\n",
       "        vertical-align: middle;\n",
       "    }\n",
       "\n",
       "    .dataframe tbody tr th {\n",
       "        vertical-align: top;\n",
       "    }\n",
       "\n",
       "    .dataframe thead th {\n",
       "        text-align: right;\n",
       "    }\n",
       "</style>\n",
       "<table border=\"1\" class=\"dataframe\">\n",
       "  <thead>\n",
       "    <tr style=\"text-align: right;\">\n",
       "      <th></th>\n",
       "      <th>artist</th>\n",
       "      <th>song</th>\n",
       "      <th>duration_ms</th>\n",
       "      <th>explicit</th>\n",
       "      <th>year</th>\n",
       "      <th>popularity</th>\n",
       "      <th>danceability</th>\n",
       "      <th>energy</th>\n",
       "      <th>key</th>\n",
       "      <th>loudness</th>\n",
       "      <th>mode</th>\n",
       "      <th>speechiness</th>\n",
       "      <th>acousticness</th>\n",
       "      <th>instrumentalness</th>\n",
       "      <th>liveness</th>\n",
       "      <th>valence</th>\n",
       "      <th>tempo</th>\n",
       "      <th>genre</th>\n",
       "    </tr>\n",
       "  </thead>\n",
       "  <tbody>\n",
       "    <tr>\n",
       "      <th>0</th>\n",
       "      <td>Britney Spears</td>\n",
       "      <td>Oops!...I Did It Again</td>\n",
       "      <td>211160</td>\n",
       "      <td>False</td>\n",
       "      <td>2000</td>\n",
       "      <td>Unknown</td>\n",
       "      <td>0.751</td>\n",
       "      <td>0.834</td>\n",
       "      <td>1</td>\n",
       "      <td>-5.444</td>\n",
       "      <td>0</td>\n",
       "      <td>0.0437</td>\n",
       "      <td>0.3000</td>\n",
       "      <td>0.000018</td>\n",
       "      <td>0.3550</td>\n",
       "      <td>0.894</td>\n",
       "      <td>95.053</td>\n",
       "      <td>pop</td>\n",
       "    </tr>\n",
       "    <tr>\n",
       "      <th>1</th>\n",
       "      <td>blink-182</td>\n",
       "      <td>All The Small Things</td>\n",
       "      <td>167066</td>\n",
       "      <td>False</td>\n",
       "      <td>1999</td>\n",
       "      <td>Unknown</td>\n",
       "      <td>0.434</td>\n",
       "      <td>0.897</td>\n",
       "      <td>0</td>\n",
       "      <td>-4.918</td>\n",
       "      <td>1</td>\n",
       "      <td>0.0488</td>\n",
       "      <td>0.0103</td>\n",
       "      <td>0.000000</td>\n",
       "      <td>0.6120</td>\n",
       "      <td>0.684</td>\n",
       "      <td>148.726</td>\n",
       "      <td>rock, pop</td>\n",
       "    </tr>\n",
       "    <tr>\n",
       "      <th>2</th>\n",
       "      <td>Faith Hill</td>\n",
       "      <td>Breathe</td>\n",
       "      <td>250546</td>\n",
       "      <td>False</td>\n",
       "      <td>1999</td>\n",
       "      <td>66.0</td>\n",
       "      <td>0.529</td>\n",
       "      <td>0.496</td>\n",
       "      <td>7</td>\n",
       "      <td>-9.007</td>\n",
       "      <td>1</td>\n",
       "      <td>0.0290</td>\n",
       "      <td>0.1730</td>\n",
       "      <td>0.000000</td>\n",
       "      <td>0.2510</td>\n",
       "      <td>0.278</td>\n",
       "      <td>136.859</td>\n",
       "      <td>pop, country</td>\n",
       "    </tr>\n",
       "    <tr>\n",
       "      <th>3</th>\n",
       "      <td>Bon Jovi</td>\n",
       "      <td>It's My Life</td>\n",
       "      <td>224493</td>\n",
       "      <td>False</td>\n",
       "      <td>2000</td>\n",
       "      <td>Unknown</td>\n",
       "      <td>0.551</td>\n",
       "      <td>0.913</td>\n",
       "      <td>0</td>\n",
       "      <td>-4.063</td>\n",
       "      <td>0</td>\n",
       "      <td>0.0466</td>\n",
       "      <td>0.0263</td>\n",
       "      <td>0.000013</td>\n",
       "      <td>0.3470</td>\n",
       "      <td>0.544</td>\n",
       "      <td>119.992</td>\n",
       "      <td>rock, metal</td>\n",
       "    </tr>\n",
       "    <tr>\n",
       "      <th>4</th>\n",
       "      <td>*NSYNC</td>\n",
       "      <td>Bye Bye Bye</td>\n",
       "      <td>200560</td>\n",
       "      <td>False</td>\n",
       "      <td>2000</td>\n",
       "      <td>65.0</td>\n",
       "      <td>0.614</td>\n",
       "      <td>0.928</td>\n",
       "      <td>8</td>\n",
       "      <td>-4.806</td>\n",
       "      <td>0</td>\n",
       "      <td>0.0516</td>\n",
       "      <td>0.0408</td>\n",
       "      <td>0.001040</td>\n",
       "      <td>0.0845</td>\n",
       "      <td>0.879</td>\n",
       "      <td>172.656</td>\n",
       "      <td>pop</td>\n",
       "    </tr>\n",
       "    <tr>\n",
       "      <th>...</th>\n",
       "      <td>...</td>\n",
       "      <td>...</td>\n",
       "      <td>...</td>\n",
       "      <td>...</td>\n",
       "      <td>...</td>\n",
       "      <td>...</td>\n",
       "      <td>...</td>\n",
       "      <td>...</td>\n",
       "      <td>...</td>\n",
       "      <td>...</td>\n",
       "      <td>...</td>\n",
       "      <td>...</td>\n",
       "      <td>...</td>\n",
       "      <td>...</td>\n",
       "      <td>...</td>\n",
       "      <td>...</td>\n",
       "      <td>...</td>\n",
       "      <td>...</td>\n",
       "    </tr>\n",
       "    <tr>\n",
       "      <th>1995</th>\n",
       "      <td>Jonas Brothers</td>\n",
       "      <td>Sucker</td>\n",
       "      <td>181026</td>\n",
       "      <td>False</td>\n",
       "      <td>2019</td>\n",
       "      <td>Unknown</td>\n",
       "      <td>0.842</td>\n",
       "      <td>0.734</td>\n",
       "      <td>1</td>\n",
       "      <td>-5.065</td>\n",
       "      <td>0</td>\n",
       "      <td>0.0588</td>\n",
       "      <td>0.0427</td>\n",
       "      <td>0.000000</td>\n",
       "      <td>0.1060</td>\n",
       "      <td>0.952</td>\n",
       "      <td>137.958</td>\n",
       "      <td>pop</td>\n",
       "    </tr>\n",
       "    <tr>\n",
       "      <th>1996</th>\n",
       "      <td>Taylor Swift</td>\n",
       "      <td>Cruel Summer</td>\n",
       "      <td>178426</td>\n",
       "      <td>False</td>\n",
       "      <td>2019</td>\n",
       "      <td>Unknown</td>\n",
       "      <td>0.552</td>\n",
       "      <td>0.702</td>\n",
       "      <td>9</td>\n",
       "      <td>-5.707</td>\n",
       "      <td>1</td>\n",
       "      <td>0.1570</td>\n",
       "      <td>0.1170</td>\n",
       "      <td>0.000021</td>\n",
       "      <td>0.1050</td>\n",
       "      <td>0.564</td>\n",
       "      <td>169.994</td>\n",
       "      <td>pop</td>\n",
       "    </tr>\n",
       "    <tr>\n",
       "      <th>1997</th>\n",
       "      <td>Blanco Brown</td>\n",
       "      <td>The Git Up</td>\n",
       "      <td>200593</td>\n",
       "      <td>False</td>\n",
       "      <td>2019</td>\n",
       "      <td>69.0</td>\n",
       "      <td>0.847</td>\n",
       "      <td>0.678</td>\n",
       "      <td>9</td>\n",
       "      <td>-8.635</td>\n",
       "      <td>1</td>\n",
       "      <td>0.1090</td>\n",
       "      <td>0.0669</td>\n",
       "      <td>0.000000</td>\n",
       "      <td>0.2740</td>\n",
       "      <td>0.811</td>\n",
       "      <td>97.984</td>\n",
       "      <td>hip hop, country</td>\n",
       "    </tr>\n",
       "    <tr>\n",
       "      <th>1998</th>\n",
       "      <td>Sam Smith</td>\n",
       "      <td>Dancing With A Stranger (with Normani)</td>\n",
       "      <td>171029</td>\n",
       "      <td>False</td>\n",
       "      <td>2019</td>\n",
       "      <td>Unknown</td>\n",
       "      <td>0.741</td>\n",
       "      <td>0.520</td>\n",
       "      <td>8</td>\n",
       "      <td>-7.513</td>\n",
       "      <td>1</td>\n",
       "      <td>0.0656</td>\n",
       "      <td>0.4500</td>\n",
       "      <td>0.000002</td>\n",
       "      <td>0.2220</td>\n",
       "      <td>0.347</td>\n",
       "      <td>102.998</td>\n",
       "      <td>pop</td>\n",
       "    </tr>\n",
       "    <tr>\n",
       "      <th>1999</th>\n",
       "      <td>Post Malone</td>\n",
       "      <td>Circles</td>\n",
       "      <td>215280</td>\n",
       "      <td>False</td>\n",
       "      <td>2019</td>\n",
       "      <td>Unknown</td>\n",
       "      <td>0.695</td>\n",
       "      <td>0.762</td>\n",
       "      <td>0</td>\n",
       "      <td>-3.497</td>\n",
       "      <td>1</td>\n",
       "      <td>0.0395</td>\n",
       "      <td>0.1920</td>\n",
       "      <td>0.002440</td>\n",
       "      <td>0.0863</td>\n",
       "      <td>0.553</td>\n",
       "      <td>120.042</td>\n",
       "      <td>hip hop</td>\n",
       "    </tr>\n",
       "  </tbody>\n",
       "</table>\n",
       "<p>2000 rows × 18 columns</p>\n",
       "</div>"
      ],
      "text/plain": [
       "              artist                                    song  duration_ms  \\\n",
       "0     Britney Spears                  Oops!...I Did It Again       211160   \n",
       "1          blink-182                    All The Small Things       167066   \n",
       "2         Faith Hill                                 Breathe       250546   \n",
       "3           Bon Jovi                            It's My Life       224493   \n",
       "4             *NSYNC                             Bye Bye Bye       200560   \n",
       "...              ...                                     ...          ...   \n",
       "1995  Jonas Brothers                                  Sucker       181026   \n",
       "1996    Taylor Swift                            Cruel Summer       178426   \n",
       "1997    Blanco Brown                              The Git Up       200593   \n",
       "1998       Sam Smith  Dancing With A Stranger (with Normani)       171029   \n",
       "1999     Post Malone                                 Circles       215280   \n",
       "\n",
       "      explicit  year popularity  danceability  energy  key  loudness  mode  \\\n",
       "0        False  2000    Unknown         0.751   0.834    1    -5.444     0   \n",
       "1        False  1999    Unknown         0.434   0.897    0    -4.918     1   \n",
       "2        False  1999       66.0         0.529   0.496    7    -9.007     1   \n",
       "3        False  2000    Unknown         0.551   0.913    0    -4.063     0   \n",
       "4        False  2000       65.0         0.614   0.928    8    -4.806     0   \n",
       "...        ...   ...        ...           ...     ...  ...       ...   ...   \n",
       "1995     False  2019    Unknown         0.842   0.734    1    -5.065     0   \n",
       "1996     False  2019    Unknown         0.552   0.702    9    -5.707     1   \n",
       "1997     False  2019       69.0         0.847   0.678    9    -8.635     1   \n",
       "1998     False  2019    Unknown         0.741   0.520    8    -7.513     1   \n",
       "1999     False  2019    Unknown         0.695   0.762    0    -3.497     1   \n",
       "\n",
       "      speechiness  acousticness  instrumentalness  liveness  valence    tempo  \\\n",
       "0          0.0437        0.3000          0.000018    0.3550    0.894   95.053   \n",
       "1          0.0488        0.0103          0.000000    0.6120    0.684  148.726   \n",
       "2          0.0290        0.1730          0.000000    0.2510    0.278  136.859   \n",
       "3          0.0466        0.0263          0.000013    0.3470    0.544  119.992   \n",
       "4          0.0516        0.0408          0.001040    0.0845    0.879  172.656   \n",
       "...           ...           ...               ...       ...      ...      ...   \n",
       "1995       0.0588        0.0427          0.000000    0.1060    0.952  137.958   \n",
       "1996       0.1570        0.1170          0.000021    0.1050    0.564  169.994   \n",
       "1997       0.1090        0.0669          0.000000    0.2740    0.811   97.984   \n",
       "1998       0.0656        0.4500          0.000002    0.2220    0.347  102.998   \n",
       "1999       0.0395        0.1920          0.002440    0.0863    0.553  120.042   \n",
       "\n",
       "                 genre  \n",
       "0                  pop  \n",
       "1            rock, pop  \n",
       "2         pop, country  \n",
       "3          rock, metal  \n",
       "4                  pop  \n",
       "...                ...  \n",
       "1995               pop  \n",
       "1996               pop  \n",
       "1997  hip hop, country  \n",
       "1998               pop  \n",
       "1999           hip hop  \n",
       "\n",
       "[2000 rows x 18 columns]"
      ]
     },
     "execution_count": 55,
     "metadata": {},
     "output_type": "execute_result"
    }
   ],
   "source": [
    "songs_missing_data.fillna(\"Unknown\")"
   ]
  },
  {
   "cell_type": "markdown",
   "metadata": {},
   "source": [
    "As you can see, all values were replaced by the element \"Unknown\". However, this is not very helpful for that variable specifically... There are other, better options of values to perform this substitution, such as statistical values related to that variable's distribution within the dataset. Apply the method presented, replacing the missing inputs with the mean value of the known entries, for the popularity variable."
   ]
  },
  {
   "cell_type": "code",
   "execution_count": null,
   "metadata": {},
   "outputs": [],
   "source": [
    "mean_value = songs_missing_data.popularity.mean()\n",
    "\n",
    "imputed_data = #insert code here\n",
    "\n",
    "imputed_data"
   ]
  },
  {
   "cell_type": "markdown",
   "metadata": {},
   "source": [
    "Now do the same, but using the median instead. (Tip there's a method to calculate median similar to the one used above to calculate the mean)"
   ]
  },
  {
   "cell_type": "code",
   "execution_count": 61,
   "metadata": {},
   "outputs": [],
   "source": [
    "median_value = #insert code here\n",
    "\n",
    "imputed_data = #insert code here\n",
    "\n",
    "imputed_data\n"
   ]
  },
  {
   "cell_type": "markdown",
   "metadata": {},
   "source": [
    "CAREFUL! In this case, we were able to apply the \"fillna\" method because only one variable had missing inputs. However, it is common for that to happen in more than one column. In that situtation, we could not apply this method using a single value for all variables, since they should present very distinct distributions."
   ]
  },
  {
   "cell_type": "markdown",
   "metadata": {},
   "source": [
    "Of course, this is still not ideal in some cases. In this dataset, we forged the missing values, and they were all correspondent to values outside the known data distribution, which is now limited to the value of 70. For this reason, these estimation methods are far from the true values that are missing. There are other, more robust ways to deal with missing inputs, however, we will not cover them in this tutorial."
   ]
  },
  {
   "cell_type": "markdown",
   "metadata": {},
   "source": [
    "#### Exercise 5 - Combining DataFrames"
   ]
  },
  {
   "cell_type": "markdown",
   "metadata": {},
   "source": []
  }
 ],
 "metadata": {
  "interpreter": {
   "hash": "916dbcbb3f70747c44a77c7bcd40155683ae19c65e1c03b4aa3499c5328201f1"
  },
  "kernelspec": {
   "display_name": "Python 3.8.10 64-bit",
   "language": "python",
   "name": "python3"
  },
  "language_info": {
   "codemirror_mode": {
    "name": "ipython",
    "version": 3
   },
   "file_extension": ".py",
   "mimetype": "text/x-python",
   "name": "python",
   "nbconvert_exporter": "python",
   "pygments_lexer": "ipython3",
   "version": "3.8.10"
  },
  "orig_nbformat": 4
 },
 "nbformat": 4,
 "nbformat_minor": 2
}
